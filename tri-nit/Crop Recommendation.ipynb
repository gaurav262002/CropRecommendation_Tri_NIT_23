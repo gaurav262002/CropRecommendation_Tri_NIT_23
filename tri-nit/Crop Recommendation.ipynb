{
 "cells": [
  {
   "cell_type": "code",
   "execution_count": 4,
   "id": "984f3984",
   "metadata": {},
   "outputs": [],
   "source": [
    "import numpy as np\n",
    "import pandas as pd"
   ]
  },
  {
   "cell_type": "code",
   "execution_count": 5,
   "id": "eda8e893",
   "metadata": {},
   "outputs": [
    {
     "name": "stdout",
     "output_type": "stream",
     "text": [
      "Requirement already satisfied: matplotlib in c:\\python310\\lib\\site-packages (3.6.3)\n",
      "Requirement already satisfied: contourpy>=1.0.1 in c:\\python310\\lib\\site-packages (from matplotlib) (1.0.7)\n",
      "Requirement already satisfied: pillow>=6.2.0 in c:\\users\\admin\\appdata\\roaming\\python\\python310\\site-packages (from matplotlib) (9.0.1)\n",
      "Requirement already satisfied: fonttools>=4.22.0 in c:\\python310\\lib\\site-packages (from matplotlib) (4.38.0)\n",
      "Requirement already satisfied: kiwisolver>=1.0.1 in c:\\python310\\lib\\site-packages (from matplotlib) (1.4.4)\n",
      "Requirement already satisfied: numpy>=1.19 in c:\\users\\admin\\appdata\\roaming\\python\\python310\\site-packages (from matplotlib) (1.22.2)\n",
      "Requirement already satisfied: packaging>=20.0 in c:\\users\\admin\\appdata\\roaming\\python\\python310\\site-packages (from matplotlib) (21.3)\n",
      "Requirement already satisfied: python-dateutil>=2.7 in c:\\python310\\lib\\site-packages (from matplotlib) (2.8.2)\n",
      "Requirement already satisfied: pyparsing>=2.2.1 in c:\\python310\\lib\\site-packages (from matplotlib) (3.0.7)\n",
      "Requirement already satisfied: cycler>=0.10 in c:\\python310\\lib\\site-packages (from matplotlib) (0.11.0)\n",
      "Requirement already satisfied: six>=1.5 in c:\\python310\\lib\\site-packages (from python-dateutil>=2.7->matplotlib) (1.16.0)\n",
      "Note: you may need to restart the kernel to use updated packages.\n"
     ]
    },
    {
     "name": "stderr",
     "output_type": "stream",
     "text": [
      "WARNING: You are using pip version 21.2.4; however, version 23.0 is available.\n",
      "You should consider upgrading via the 'C:\\Python310\\python.exe -m pip install --upgrade pip' command.\n"
     ]
    }
   ],
   "source": [
    "pip install matplotlib"
   ]
  },
  {
   "cell_type": "markdown",
   "id": "b40e1452",
   "metadata": {},
   "source": [
    "## Agricultural Data"
   ]
  },
  {
   "cell_type": "code",
   "execution_count": 95,
   "id": "7110c6a2",
   "metadata": {},
   "outputs": [],
   "source": [
    "agri_data = pd.read_csv('agri-data.csv')"
   ]
  },
  {
   "cell_type": "code",
   "execution_count": 96,
   "id": "2e22191b",
   "metadata": {},
   "outputs": [],
   "source": [
    "agri_data['commodity'] = agri_data['commodity'].apply(lambda x: x.lower())"
   ]
  },
  {
   "cell_type": "code",
   "execution_count": 97,
   "id": "861d0959",
   "metadata": {},
   "outputs": [
    {
     "data": {
      "text/html": [
       "<div>\n",
       "<style scoped>\n",
       "    .dataframe tbody tr th:only-of-type {\n",
       "        vertical-align: middle;\n",
       "    }\n",
       "\n",
       "    .dataframe tbody tr th {\n",
       "        vertical-align: top;\n",
       "    }\n",
       "\n",
       "    .dataframe thead th {\n",
       "        text-align: right;\n",
       "    }\n",
       "</style>\n",
       "<table border=\"1\" class=\"dataframe\">\n",
       "  <thead>\n",
       "    <tr style=\"text-align: right;\">\n",
       "      <th></th>\n",
       "      <th>state</th>\n",
       "      <th>district</th>\n",
       "      <th>market</th>\n",
       "      <th>commodity</th>\n",
       "      <th>variety</th>\n",
       "      <th>arrival_date</th>\n",
       "      <th>min_price</th>\n",
       "      <th>max_price</th>\n",
       "      <th>modal_price</th>\n",
       "    </tr>\n",
       "  </thead>\n",
       "  <tbody>\n",
       "    <tr>\n",
       "      <th>0</th>\n",
       "      <td>Andaman and Nicobar</td>\n",
       "      <td>South Andaman</td>\n",
       "      <td>Port Blair</td>\n",
       "      <td>amaranthus</td>\n",
       "      <td>Amaranthus</td>\n",
       "      <td>04/03/2019</td>\n",
       "      <td>6000</td>\n",
       "      <td>8000</td>\n",
       "      <td>7000</td>\n",
       "    </tr>\n",
       "    <tr>\n",
       "      <th>1</th>\n",
       "      <td>Andaman and Nicobar</td>\n",
       "      <td>South Andaman</td>\n",
       "      <td>Port Blair</td>\n",
       "      <td>banana - green</td>\n",
       "      <td>Banana - Green</td>\n",
       "      <td>04/03/2019</td>\n",
       "      <td>4500</td>\n",
       "      <td>5500</td>\n",
       "      <td>5000</td>\n",
       "    </tr>\n",
       "    <tr>\n",
       "      <th>2</th>\n",
       "      <td>Andaman and Nicobar</td>\n",
       "      <td>South Andaman</td>\n",
       "      <td>Port Blair</td>\n",
       "      <td>bhindi(ladies finger)</td>\n",
       "      <td>Bhindi</td>\n",
       "      <td>04/03/2019</td>\n",
       "      <td>6000</td>\n",
       "      <td>8000</td>\n",
       "      <td>7000</td>\n",
       "    </tr>\n",
       "    <tr>\n",
       "      <th>3</th>\n",
       "      <td>Andaman and Nicobar</td>\n",
       "      <td>South Andaman</td>\n",
       "      <td>Port Blair</td>\n",
       "      <td>bitter gourd</td>\n",
       "      <td>Other</td>\n",
       "      <td>04/03/2019</td>\n",
       "      <td>6000</td>\n",
       "      <td>8000</td>\n",
       "      <td>7000</td>\n",
       "    </tr>\n",
       "    <tr>\n",
       "      <th>4</th>\n",
       "      <td>Andaman and Nicobar</td>\n",
       "      <td>South Andaman</td>\n",
       "      <td>Port Blair</td>\n",
       "      <td>black pepper</td>\n",
       "      <td>Other</td>\n",
       "      <td>04/03/2019</td>\n",
       "      <td>110000</td>\n",
       "      <td>130000</td>\n",
       "      <td>120000</td>\n",
       "    </tr>\n",
       "    <tr>\n",
       "      <th>...</th>\n",
       "      <td>...</td>\n",
       "      <td>...</td>\n",
       "      <td>...</td>\n",
       "      <td>...</td>\n",
       "      <td>...</td>\n",
       "      <td>...</td>\n",
       "      <td>...</td>\n",
       "      <td>...</td>\n",
       "      <td>...</td>\n",
       "    </tr>\n",
       "    <tr>\n",
       "      <th>2233</th>\n",
       "      <td>West Bengal</td>\n",
       "      <td>Uttar Dinajpur</td>\n",
       "      <td>Islampur</td>\n",
       "      <td>potato</td>\n",
       "      <td>Jyoti</td>\n",
       "      <td>04/03/2019</td>\n",
       "      <td>530</td>\n",
       "      <td>570</td>\n",
       "      <td>550</td>\n",
       "    </tr>\n",
       "    <tr>\n",
       "      <th>2234</th>\n",
       "      <td>West Bengal</td>\n",
       "      <td>Uttar Dinajpur</td>\n",
       "      <td>Islampur</td>\n",
       "      <td>rice</td>\n",
       "      <td>Other</td>\n",
       "      <td>04/03/2019</td>\n",
       "      <td>3550</td>\n",
       "      <td>3650</td>\n",
       "      <td>3600</td>\n",
       "    </tr>\n",
       "    <tr>\n",
       "      <th>2235</th>\n",
       "      <td>West Bengal</td>\n",
       "      <td>Uttar Dinajpur</td>\n",
       "      <td>Raiganj</td>\n",
       "      <td>jute</td>\n",
       "      <td>TD-5</td>\n",
       "      <td>04/03/2019</td>\n",
       "      <td>4400</td>\n",
       "      <td>4600</td>\n",
       "      <td>4500</td>\n",
       "    </tr>\n",
       "    <tr>\n",
       "      <th>2236</th>\n",
       "      <td>West Bengal</td>\n",
       "      <td>Uttar Dinajpur</td>\n",
       "      <td>Raiganj</td>\n",
       "      <td>rice</td>\n",
       "      <td>Other</td>\n",
       "      <td>04/03/2019</td>\n",
       "      <td>3450</td>\n",
       "      <td>3550</td>\n",
       "      <td>3500</td>\n",
       "    </tr>\n",
       "    <tr>\n",
       "      <th>2237</th>\n",
       "      <td>West Bengal</td>\n",
       "      <td>Uttar Dinajpur</td>\n",
       "      <td>Raiganj</td>\n",
       "      <td>wheat</td>\n",
       "      <td>Kalyan</td>\n",
       "      <td>04/03/2019</td>\n",
       "      <td>2075</td>\n",
       "      <td>2125</td>\n",
       "      <td>2100</td>\n",
       "    </tr>\n",
       "  </tbody>\n",
       "</table>\n",
       "<p>2238 rows × 9 columns</p>\n",
       "</div>"
      ],
      "text/plain": [
       "                    state        district      market              commodity  \\\n",
       "0     Andaman and Nicobar   South Andaman  Port Blair             amaranthus   \n",
       "1     Andaman and Nicobar   South Andaman  Port Blair         banana - green   \n",
       "2     Andaman and Nicobar   South Andaman  Port Blair  bhindi(ladies finger)   \n",
       "3     Andaman and Nicobar   South Andaman  Port Blair           bitter gourd   \n",
       "4     Andaman and Nicobar   South Andaman  Port Blair           black pepper   \n",
       "...                   ...             ...         ...                    ...   \n",
       "2233          West Bengal  Uttar Dinajpur    Islampur                 potato   \n",
       "2234          West Bengal  Uttar Dinajpur    Islampur                   rice   \n",
       "2235          West Bengal  Uttar Dinajpur     Raiganj                   jute   \n",
       "2236          West Bengal  Uttar Dinajpur     Raiganj                   rice   \n",
       "2237          West Bengal  Uttar Dinajpur     Raiganj                  wheat   \n",
       "\n",
       "             variety arrival_date  min_price  max_price  modal_price  \n",
       "0         Amaranthus   04/03/2019       6000       8000         7000  \n",
       "1     Banana - Green   04/03/2019       4500       5500         5000  \n",
       "2             Bhindi   04/03/2019       6000       8000         7000  \n",
       "3              Other   04/03/2019       6000       8000         7000  \n",
       "4              Other   04/03/2019     110000     130000       120000  \n",
       "...              ...          ...        ...        ...          ...  \n",
       "2233           Jyoti   04/03/2019        530        570          550  \n",
       "2234           Other   04/03/2019       3550       3650         3600  \n",
       "2235            TD-5   04/03/2019       4400       4600         4500  \n",
       "2236           Other   04/03/2019       3450       3550         3500  \n",
       "2237          Kalyan   04/03/2019       2075       2125         2100  \n",
       "\n",
       "[2238 rows x 9 columns]"
      ]
     },
     "execution_count": 97,
     "metadata": {},
     "output_type": "execute_result"
    }
   ],
   "source": [
    "agri_data"
   ]
  },
  {
   "cell_type": "code",
   "execution_count": 98,
   "id": "2d03cecf",
   "metadata": {},
   "outputs": [
    {
     "name": "stdout",
     "output_type": "stream",
     "text": [
      "<class 'pandas.core.frame.DataFrame'>\n",
      "RangeIndex: 2238 entries, 0 to 2237\n",
      "Data columns (total 9 columns):\n",
      " #   Column        Non-Null Count  Dtype \n",
      "---  ------        --------------  ----- \n",
      " 0   state         2238 non-null   object\n",
      " 1   district      2238 non-null   object\n",
      " 2   market        2238 non-null   object\n",
      " 3   commodity     2238 non-null   object\n",
      " 4   variety       2238 non-null   object\n",
      " 5   arrival_date  2238 non-null   object\n",
      " 6   min_price     2238 non-null   int64 \n",
      " 7   max_price     2238 non-null   int64 \n",
      " 8   modal_price   2238 non-null   int64 \n",
      "dtypes: int64(3), object(6)\n",
      "memory usage: 157.5+ KB\n"
     ]
    }
   ],
   "source": [
    "agri_data.info()"
   ]
  },
  {
   "cell_type": "code",
   "execution_count": 99,
   "id": "86947b95",
   "metadata": {},
   "outputs": [
    {
     "data": {
      "text/html": [
       "<div>\n",
       "<style scoped>\n",
       "    .dataframe tbody tr th:only-of-type {\n",
       "        vertical-align: middle;\n",
       "    }\n",
       "\n",
       "    .dataframe tbody tr th {\n",
       "        vertical-align: top;\n",
       "    }\n",
       "\n",
       "    .dataframe thead th {\n",
       "        text-align: right;\n",
       "    }\n",
       "</style>\n",
       "<table border=\"1\" class=\"dataframe\">\n",
       "  <thead>\n",
       "    <tr style=\"text-align: right;\">\n",
       "      <th></th>\n",
       "      <th>min_price</th>\n",
       "      <th>max_price</th>\n",
       "      <th>modal_price</th>\n",
       "    </tr>\n",
       "  </thead>\n",
       "  <tbody>\n",
       "    <tr>\n",
       "      <th>count</th>\n",
       "      <td>2238.000000</td>\n",
       "      <td>2238.000000</td>\n",
       "      <td>2238.000000</td>\n",
       "    </tr>\n",
       "    <tr>\n",
       "      <th>mean</th>\n",
       "      <td>2456.230563</td>\n",
       "      <td>2855.890527</td>\n",
       "      <td>2698.865952</td>\n",
       "    </tr>\n",
       "    <tr>\n",
       "      <th>std</th>\n",
       "      <td>3452.497680</td>\n",
       "      <td>3917.251520</td>\n",
       "      <td>3694.830905</td>\n",
       "    </tr>\n",
       "    <tr>\n",
       "      <th>min</th>\n",
       "      <td>0.000000</td>\n",
       "      <td>0.000000</td>\n",
       "      <td>2.000000</td>\n",
       "    </tr>\n",
       "    <tr>\n",
       "      <th>25%</th>\n",
       "      <td>800.000000</td>\n",
       "      <td>1000.000000</td>\n",
       "      <td>950.000000</td>\n",
       "    </tr>\n",
       "    <tr>\n",
       "      <th>50%</th>\n",
       "      <td>1700.000000</td>\n",
       "      <td>1960.000000</td>\n",
       "      <td>1831.500000</td>\n",
       "    </tr>\n",
       "    <tr>\n",
       "      <th>75%</th>\n",
       "      <td>3200.000000</td>\n",
       "      <td>3700.000000</td>\n",
       "      <td>3500.000000</td>\n",
       "    </tr>\n",
       "    <tr>\n",
       "      <th>max</th>\n",
       "      <td>110000.000000</td>\n",
       "      <td>130000.000000</td>\n",
       "      <td>120000.000000</td>\n",
       "    </tr>\n",
       "  </tbody>\n",
       "</table>\n",
       "</div>"
      ],
      "text/plain": [
       "           min_price      max_price    modal_price\n",
       "count    2238.000000    2238.000000    2238.000000\n",
       "mean     2456.230563    2855.890527    2698.865952\n",
       "std      3452.497680    3917.251520    3694.830905\n",
       "min         0.000000       0.000000       2.000000\n",
       "25%       800.000000    1000.000000     950.000000\n",
       "50%      1700.000000    1960.000000    1831.500000\n",
       "75%      3200.000000    3700.000000    3500.000000\n",
       "max    110000.000000  130000.000000  120000.000000"
      ]
     },
     "execution_count": 99,
     "metadata": {},
     "output_type": "execute_result"
    }
   ],
   "source": [
    "agri_data.describe()"
   ]
  },
  {
   "cell_type": "markdown",
   "id": "4599a3d8",
   "metadata": {},
   "source": [
    "The Problem statement says we need to geolocation, price and rainfall. Modal Price is the mean of max and min price, and we can use that for our analysis."
   ]
  },
  {
   "cell_type": "code",
   "execution_count": 100,
   "id": "48894f0b",
   "metadata": {},
   "outputs": [
    {
     "data": {
      "text/html": [
       "<div>\n",
       "<style scoped>\n",
       "    .dataframe tbody tr th:only-of-type {\n",
       "        vertical-align: middle;\n",
       "    }\n",
       "\n",
       "    .dataframe tbody tr th {\n",
       "        vertical-align: top;\n",
       "    }\n",
       "\n",
       "    .dataframe thead th {\n",
       "        text-align: right;\n",
       "    }\n",
       "</style>\n",
       "<table border=\"1\" class=\"dataframe\">\n",
       "  <thead>\n",
       "    <tr style=\"text-align: right;\">\n",
       "      <th></th>\n",
       "      <th>state</th>\n",
       "      <th>commodity</th>\n",
       "      <th>modal_price</th>\n",
       "    </tr>\n",
       "  </thead>\n",
       "  <tbody>\n",
       "    <tr>\n",
       "      <th>0</th>\n",
       "      <td>Andaman and Nicobar</td>\n",
       "      <td>amaranthus</td>\n",
       "      <td>7000</td>\n",
       "    </tr>\n",
       "    <tr>\n",
       "      <th>1</th>\n",
       "      <td>Andaman and Nicobar</td>\n",
       "      <td>banana - green</td>\n",
       "      <td>5000</td>\n",
       "    </tr>\n",
       "    <tr>\n",
       "      <th>2</th>\n",
       "      <td>Andaman and Nicobar</td>\n",
       "      <td>bhindi(ladies finger)</td>\n",
       "      <td>7000</td>\n",
       "    </tr>\n",
       "    <tr>\n",
       "      <th>3</th>\n",
       "      <td>Andaman and Nicobar</td>\n",
       "      <td>bitter gourd</td>\n",
       "      <td>7000</td>\n",
       "    </tr>\n",
       "    <tr>\n",
       "      <th>4</th>\n",
       "      <td>Andaman and Nicobar</td>\n",
       "      <td>black pepper</td>\n",
       "      <td>120000</td>\n",
       "    </tr>\n",
       "    <tr>\n",
       "      <th>...</th>\n",
       "      <td>...</td>\n",
       "      <td>...</td>\n",
       "      <td>...</td>\n",
       "    </tr>\n",
       "    <tr>\n",
       "      <th>2233</th>\n",
       "      <td>West Bengal</td>\n",
       "      <td>potato</td>\n",
       "      <td>550</td>\n",
       "    </tr>\n",
       "    <tr>\n",
       "      <th>2234</th>\n",
       "      <td>West Bengal</td>\n",
       "      <td>rice</td>\n",
       "      <td>3600</td>\n",
       "    </tr>\n",
       "    <tr>\n",
       "      <th>2235</th>\n",
       "      <td>West Bengal</td>\n",
       "      <td>jute</td>\n",
       "      <td>4500</td>\n",
       "    </tr>\n",
       "    <tr>\n",
       "      <th>2236</th>\n",
       "      <td>West Bengal</td>\n",
       "      <td>rice</td>\n",
       "      <td>3500</td>\n",
       "    </tr>\n",
       "    <tr>\n",
       "      <th>2237</th>\n",
       "      <td>West Bengal</td>\n",
       "      <td>wheat</td>\n",
       "      <td>2100</td>\n",
       "    </tr>\n",
       "  </tbody>\n",
       "</table>\n",
       "<p>2238 rows × 3 columns</p>\n",
       "</div>"
      ],
      "text/plain": [
       "                    state              commodity  modal_price\n",
       "0     Andaman and Nicobar             amaranthus         7000\n",
       "1     Andaman and Nicobar         banana - green         5000\n",
       "2     Andaman and Nicobar  bhindi(ladies finger)         7000\n",
       "3     Andaman and Nicobar           bitter gourd         7000\n",
       "4     Andaman and Nicobar           black pepper       120000\n",
       "...                   ...                    ...          ...\n",
       "2233          West Bengal                 potato          550\n",
       "2234          West Bengal                   rice         3600\n",
       "2235          West Bengal                   jute         4500\n",
       "2236          West Bengal                   rice         3500\n",
       "2237          West Bengal                  wheat         2100\n",
       "\n",
       "[2238 rows x 3 columns]"
      ]
     },
     "execution_count": 100,
     "metadata": {},
     "output_type": "execute_result"
    }
   ],
   "source": [
    "ad = agri_data[['state', 'commodity', 'modal_price']]\n",
    "ad"
   ]
  },
  {
   "cell_type": "code",
   "execution_count": 101,
   "id": "a39e0046",
   "metadata": {},
   "outputs": [
    {
     "data": {
      "text/plain": [
       "0       andaman and nicobar\n",
       "1       andaman and nicobar\n",
       "2       andaman and nicobar\n",
       "3       andaman and nicobar\n",
       "4       andaman and nicobar\n",
       "               ...         \n",
       "2233            west bengal\n",
       "2234            west bengal\n",
       "2235            west bengal\n",
       "2236            west bengal\n",
       "2237            west bengal\n",
       "Name: state, Length: 2238, dtype: object"
      ]
     },
     "execution_count": 101,
     "metadata": {},
     "output_type": "execute_result"
    }
   ],
   "source": [
    "ad['state'].apply(lambda x: x.lower())"
   ]
  },
  {
   "cell_type": "code",
   "execution_count": 102,
   "id": "97abf0ef",
   "metadata": {},
   "outputs": [
    {
     "data": {
      "text/plain": [
       "array(['Andaman and Nicobar', 'Andhra Pradesh', 'Assam', 'Chattisgarh',\n",
       "       'Goa', 'Gujarat', 'Haryana', 'Himachal Pradesh',\n",
       "       'Jammu and Kashmir', 'Karnataka', 'Kerala', 'Madhya Pradesh',\n",
       "       'Maharashtra', 'Manipur', 'Meghalaya', 'Nagaland', 'Odisha',\n",
       "       'Pondicherry', 'Punjab', 'Rajasthan', 'Tamil Nadu', 'Telangana',\n",
       "       'Tripura', 'Uttar Pradesh', 'Uttrakhand', 'West Bengal'],\n",
       "      dtype=object)"
      ]
     },
     "execution_count": 102,
     "metadata": {},
     "output_type": "execute_result"
    }
   ],
   "source": [
    "ad.state.unique()"
   ]
  },
  {
   "cell_type": "code",
   "execution_count": 103,
   "id": "dee1fb68",
   "metadata": {},
   "outputs": [],
   "source": [
    "array_one = ad.commodity.unique()"
   ]
  },
  {
   "cell_type": "code",
   "execution_count": 104,
   "id": "3fbe924d",
   "metadata": {},
   "outputs": [],
   "source": [
    "ad = ad.loc[ad['commodity'].isin(common_list)]"
   ]
  },
  {
   "cell_type": "code",
   "execution_count": 105,
   "id": "4abe233d",
   "metadata": {},
   "outputs": [
    {
     "data": {
      "text/plain": [
       "<AxesSubplot: xlabel='commodity'>"
      ]
     },
     "execution_count": 105,
     "metadata": {},
     "output_type": "execute_result"
    },
    {
     "data": {
      "text/plain": [
       "<Figure size 1008x504 with 0 Axes>"
      ]
     },
     "metadata": {},
     "output_type": "display_data"
    },
    {
     "data": {
      "image/png": "[encoded data removed]",
      "text/plain": [
       "<Figure size 432x288 with 1 Axes>"
      ]
     },
     "metadata": {
      "needs_background": "light"
     },
     "output_type": "display_data"
    }
   ],
   "source": [
    "import matplotlib.pyplot as plt\n",
    "fig = plt.figure(figsize = (14, 7))\n",
    "tempd = ad.groupby('commodity').mean()\n",
    "tempd.plot.bar()"
   ]
  },
  {
   "cell_type": "code",
   "execution_count": 106,
   "id": "c59c5b93",
   "metadata": {},
   "outputs": [
    {
     "data": {
      "text/plain": [
       "<AxesSubplot: xlabel='state'>"
      ]
     },
     "execution_count": 106,
     "metadata": {},
     "output_type": "execute_result"
    },
    {
     "data": {
      "text/plain": [
       "<Figure size 1008x504 with 0 Axes>"
      ]
     },
     "metadata": {},
     "output_type": "display_data"
    },
    {
     "data": {
      "image/png": "[encoded data removed]",
      "text/plain": [
       "<Figure size 432x288 with 1 Axes>"
      ]
     },
     "metadata": {
      "needs_background": "light"
     },
     "output_type": "display_data"
    }
   ],
   "source": [
    "import matplotlib.pyplot as plt\n",
    "fig = plt.figure(figsize = (14, 7))\n",
    "tempd = ad.groupby('state').mean()\n",
    "tempd.plot.bar()"
   ]
  },
  {
   "cell_type": "markdown",
   "id": "6a4f7619",
   "metadata": {},
   "source": [
    "## Crop Data"
   ]
  },
  {
   "cell_type": "code",
   "execution_count": 107,
   "id": "fd7d6906",
   "metadata": {},
   "outputs": [],
   "source": [
    "crop_data = pd.read_csv('crop-data.csv')"
   ]
  },
  {
   "cell_type": "code",
   "execution_count": 108,
   "id": "780cbd70",
   "metadata": {},
   "outputs": [
    {
     "data": {
      "text/html": [
       "<div>\n",
       "<style scoped>\n",
       "    .dataframe tbody tr th:only-of-type {\n",
       "        vertical-align: middle;\n",
       "    }\n",
       "\n",
       "    .dataframe tbody tr th {\n",
       "        vertical-align: top;\n",
       "    }\n",
       "\n",
       "    .dataframe thead th {\n",
       "        text-align: right;\n",
       "    }\n",
       "</style>\n",
       "<table border=\"1\" class=\"dataframe\">\n",
       "  <thead>\n",
       "    <tr style=\"text-align: right;\">\n",
       "      <th></th>\n",
       "      <th>N</th>\n",
       "      <th>P</th>\n",
       "      <th>K</th>\n",
       "      <th>temperature</th>\n",
       "      <th>humidity</th>\n",
       "      <th>ph</th>\n",
       "      <th>rainfall</th>\n",
       "      <th>label</th>\n",
       "    </tr>\n",
       "  </thead>\n",
       "  <tbody>\n",
       "    <tr>\n",
       "      <th>0</th>\n",
       "      <td>90</td>\n",
       "      <td>42</td>\n",
       "      <td>43</td>\n",
       "      <td>20.879744</td>\n",
       "      <td>82.002744</td>\n",
       "      <td>6.502985</td>\n",
       "      <td>202.935536</td>\n",
       "      <td>rice</td>\n",
       "    </tr>\n",
       "    <tr>\n",
       "      <th>1</th>\n",
       "      <td>85</td>\n",
       "      <td>58</td>\n",
       "      <td>41</td>\n",
       "      <td>21.770462</td>\n",
       "      <td>80.319644</td>\n",
       "      <td>7.038096</td>\n",
       "      <td>226.655537</td>\n",
       "      <td>rice</td>\n",
       "    </tr>\n",
       "    <tr>\n",
       "      <th>2</th>\n",
       "      <td>60</td>\n",
       "      <td>55</td>\n",
       "      <td>44</td>\n",
       "      <td>23.004459</td>\n",
       "      <td>82.320763</td>\n",
       "      <td>7.840207</td>\n",
       "      <td>263.964248</td>\n",
       "      <td>rice</td>\n",
       "    </tr>\n",
       "    <tr>\n",
       "      <th>3</th>\n",
       "      <td>74</td>\n",
       "      <td>35</td>\n",
       "      <td>40</td>\n",
       "      <td>26.491096</td>\n",
       "      <td>80.158363</td>\n",
       "      <td>6.980401</td>\n",
       "      <td>242.864034</td>\n",
       "      <td>rice</td>\n",
       "    </tr>\n",
       "    <tr>\n",
       "      <th>4</th>\n",
       "      <td>78</td>\n",
       "      <td>42</td>\n",
       "      <td>42</td>\n",
       "      <td>20.130175</td>\n",
       "      <td>81.604873</td>\n",
       "      <td>7.628473</td>\n",
       "      <td>262.717340</td>\n",
       "      <td>rice</td>\n",
       "    </tr>\n",
       "  </tbody>\n",
       "</table>\n",
       "</div>"
      ],
      "text/plain": [
       "    N   P   K  temperature   humidity        ph    rainfall label\n",
       "0  90  42  43    20.879744  82.002744  6.502985  202.935536  rice\n",
       "1  85  58  41    21.770462  80.319644  7.038096  226.655537  rice\n",
       "2  60  55  44    23.004459  82.320763  7.840207  263.964248  rice\n",
       "3  74  35  40    26.491096  80.158363  6.980401  242.864034  rice\n",
       "4  78  42  42    20.130175  81.604873  7.628473  262.717340  rice"
      ]
     },
     "execution_count": 108,
     "metadata": {},
     "output_type": "execute_result"
    }
   ],
   "source": [
    "crop_data.head()"
   ]
  },
  {
   "cell_type": "code",
   "execution_count": 109,
   "id": "0093d793",
   "metadata": {},
   "outputs": [],
   "source": [
    "cd = crop_data[['temperature', 'humidity', 'rainfall', 'label']]"
   ]
  },
  {
   "cell_type": "code",
   "execution_count": 110,
   "id": "74ecd7cd",
   "metadata": {},
   "outputs": [
    {
     "data": {
      "text/html": [
       "<div>\n",
       "<style scoped>\n",
       "    .dataframe tbody tr th:only-of-type {\n",
       "        vertical-align: middle;\n",
       "    }\n",
       "\n",
       "    .dataframe tbody tr th {\n",
       "        vertical-align: top;\n",
       "    }\n",
       "\n",
       "    .dataframe thead th {\n",
       "        text-align: right;\n",
       "    }\n",
       "</style>\n",
       "<table border=\"1\" class=\"dataframe\">\n",
       "  <thead>\n",
       "    <tr style=\"text-align: right;\">\n",
       "      <th></th>\n",
       "      <th>temperature</th>\n",
       "      <th>humidity</th>\n",
       "      <th>rainfall</th>\n",
       "      <th>label</th>\n",
       "    </tr>\n",
       "  </thead>\n",
       "  <tbody>\n",
       "    <tr>\n",
       "      <th>0</th>\n",
       "      <td>20.879744</td>\n",
       "      <td>82.002744</td>\n",
       "      <td>202.935536</td>\n",
       "      <td>rice</td>\n",
       "    </tr>\n",
       "    <tr>\n",
       "      <th>1</th>\n",
       "      <td>21.770462</td>\n",
       "      <td>80.319644</td>\n",
       "      <td>226.655537</td>\n",
       "      <td>rice</td>\n",
       "    </tr>\n",
       "    <tr>\n",
       "      <th>2</th>\n",
       "      <td>23.004459</td>\n",
       "      <td>82.320763</td>\n",
       "      <td>263.964248</td>\n",
       "      <td>rice</td>\n",
       "    </tr>\n",
       "    <tr>\n",
       "      <th>3</th>\n",
       "      <td>26.491096</td>\n",
       "      <td>80.158363</td>\n",
       "      <td>242.864034</td>\n",
       "      <td>rice</td>\n",
       "    </tr>\n",
       "    <tr>\n",
       "      <th>4</th>\n",
       "      <td>20.130175</td>\n",
       "      <td>81.604873</td>\n",
       "      <td>262.717340</td>\n",
       "      <td>rice</td>\n",
       "    </tr>\n",
       "  </tbody>\n",
       "</table>\n",
       "</div>"
      ],
      "text/plain": [
       "   temperature   humidity    rainfall label\n",
       "0    20.879744  82.002744  202.935536  rice\n",
       "1    21.770462  80.319644  226.655537  rice\n",
       "2    23.004459  82.320763  263.964248  rice\n",
       "3    26.491096  80.158363  242.864034  rice\n",
       "4    20.130175  81.604873  262.717340  rice"
      ]
     },
     "execution_count": 110,
     "metadata": {},
     "output_type": "execute_result"
    }
   ],
   "source": [
    "cd.head()"
   ]
  },
  {
   "cell_type": "code",
   "execution_count": 111,
   "id": "9c72b30e",
   "metadata": {},
   "outputs": [
    {
     "data": {
      "text/html": [
       "<div>\n",
       "<style scoped>\n",
       "    .dataframe tbody tr th:only-of-type {\n",
       "        vertical-align: middle;\n",
       "    }\n",
       "\n",
       "    .dataframe tbody tr th {\n",
       "        vertical-align: top;\n",
       "    }\n",
       "\n",
       "    .dataframe thead th {\n",
       "        text-align: right;\n",
       "    }\n",
       "</style>\n",
       "<table border=\"1\" class=\"dataframe\">\n",
       "  <thead>\n",
       "    <tr style=\"text-align: right;\">\n",
       "      <th></th>\n",
       "      <th>temperature</th>\n",
       "      <th>humidity</th>\n",
       "      <th>rainfall</th>\n",
       "    </tr>\n",
       "  </thead>\n",
       "  <tbody>\n",
       "    <tr>\n",
       "      <th>count</th>\n",
       "      <td>2200.000000</td>\n",
       "      <td>2200.000000</td>\n",
       "      <td>2200.000000</td>\n",
       "    </tr>\n",
       "    <tr>\n",
       "      <th>mean</th>\n",
       "      <td>25.616244</td>\n",
       "      <td>71.481779</td>\n",
       "      <td>103.463655</td>\n",
       "    </tr>\n",
       "    <tr>\n",
       "      <th>std</th>\n",
       "      <td>5.063749</td>\n",
       "      <td>22.263812</td>\n",
       "      <td>54.958389</td>\n",
       "    </tr>\n",
       "    <tr>\n",
       "      <th>min</th>\n",
       "      <td>8.825675</td>\n",
       "      <td>14.258040</td>\n",
       "      <td>20.211267</td>\n",
       "    </tr>\n",
       "    <tr>\n",
       "      <th>25%</th>\n",
       "      <td>22.769375</td>\n",
       "      <td>60.261953</td>\n",
       "      <td>64.551686</td>\n",
       "    </tr>\n",
       "    <tr>\n",
       "      <th>50%</th>\n",
       "      <td>25.598693</td>\n",
       "      <td>80.473146</td>\n",
       "      <td>94.867624</td>\n",
       "    </tr>\n",
       "    <tr>\n",
       "      <th>75%</th>\n",
       "      <td>28.561654</td>\n",
       "      <td>89.948771</td>\n",
       "      <td>124.267508</td>\n",
       "    </tr>\n",
       "    <tr>\n",
       "      <th>max</th>\n",
       "      <td>43.675493</td>\n",
       "      <td>99.981876</td>\n",
       "      <td>298.560117</td>\n",
       "    </tr>\n",
       "  </tbody>\n",
       "</table>\n",
       "</div>"
      ],
      "text/plain": [
       "       temperature     humidity     rainfall\n",
       "count  2200.000000  2200.000000  2200.000000\n",
       "mean     25.616244    71.481779   103.463655\n",
       "std       5.063749    22.263812    54.958389\n",
       "min       8.825675    14.258040    20.211267\n",
       "25%      22.769375    60.261953    64.551686\n",
       "50%      25.598693    80.473146    94.867624\n",
       "75%      28.561654    89.948771   124.267508\n",
       "max      43.675493    99.981876   298.560117"
      ]
     },
     "execution_count": 111,
     "metadata": {},
     "output_type": "execute_result"
    }
   ],
   "source": [
    "cd.describe()"
   ]
  },
  {
   "cell_type": "code",
   "execution_count": 112,
   "id": "842ea62e",
   "metadata": {},
   "outputs": [],
   "source": [
    "array_two = cd.label.unique()"
   ]
  },
  {
   "cell_type": "code",
   "execution_count": 113,
   "id": "1dabe66e",
   "metadata": {},
   "outputs": [],
   "source": [
    "common_list = set(array_one).intersection(array_two)"
   ]
  },
  {
   "cell_type": "code",
   "execution_count": 114,
   "id": "a81be78f",
   "metadata": {},
   "outputs": [
    {
     "data": {
      "text/plain": [
       "{'apple',\n",
       " 'banana',\n",
       " 'coconut',\n",
       " 'cotton',\n",
       " 'grapes',\n",
       " 'jute',\n",
       " 'maize',\n",
       " 'mango',\n",
       " 'orange',\n",
       " 'papaya',\n",
       " 'pomegranate',\n",
       " 'rice'}"
      ]
     },
     "execution_count": 114,
     "metadata": {},
     "output_type": "execute_result"
    }
   ],
   "source": [
    "common_list"
   ]
  },
  {
   "cell_type": "code",
   "execution_count": 115,
   "id": "4c1de0cb",
   "metadata": {},
   "outputs": [
    {
     "data": {
      "text/html": [
       "<div>\n",
       "<style scoped>\n",
       "    .dataframe tbody tr th:only-of-type {\n",
       "        vertical-align: middle;\n",
       "    }\n",
       "\n",
       "    .dataframe tbody tr th {\n",
       "        vertical-align: top;\n",
       "    }\n",
       "\n",
       "    .dataframe thead th {\n",
       "        text-align: right;\n",
       "    }\n",
       "</style>\n",
       "<table border=\"1\" class=\"dataframe\">\n",
       "  <thead>\n",
       "    <tr style=\"text-align: right;\">\n",
       "      <th></th>\n",
       "      <th>temperature</th>\n",
       "      <th>humidity</th>\n",
       "      <th>rainfall</th>\n",
       "      <th>label</th>\n",
       "    </tr>\n",
       "  </thead>\n",
       "  <tbody>\n",
       "    <tr>\n",
       "      <th>0</th>\n",
       "      <td>20.879744</td>\n",
       "      <td>82.002744</td>\n",
       "      <td>202.935536</td>\n",
       "      <td>rice</td>\n",
       "    </tr>\n",
       "    <tr>\n",
       "      <th>1</th>\n",
       "      <td>21.770462</td>\n",
       "      <td>80.319644</td>\n",
       "      <td>226.655537</td>\n",
       "      <td>rice</td>\n",
       "    </tr>\n",
       "    <tr>\n",
       "      <th>2</th>\n",
       "      <td>23.004459</td>\n",
       "      <td>82.320763</td>\n",
       "      <td>263.964248</td>\n",
       "      <td>rice</td>\n",
       "    </tr>\n",
       "    <tr>\n",
       "      <th>3</th>\n",
       "      <td>26.491096</td>\n",
       "      <td>80.158363</td>\n",
       "      <td>242.864034</td>\n",
       "      <td>rice</td>\n",
       "    </tr>\n",
       "    <tr>\n",
       "      <th>4</th>\n",
       "      <td>20.130175</td>\n",
       "      <td>81.604873</td>\n",
       "      <td>262.717340</td>\n",
       "      <td>rice</td>\n",
       "    </tr>\n",
       "    <tr>\n",
       "      <th>...</th>\n",
       "      <td>...</td>\n",
       "      <td>...</td>\n",
       "      <td>...</td>\n",
       "      <td>...</td>\n",
       "    </tr>\n",
       "    <tr>\n",
       "      <th>2095</th>\n",
       "      <td>23.874845</td>\n",
       "      <td>86.792613</td>\n",
       "      <td>177.514731</td>\n",
       "      <td>jute</td>\n",
       "    </tr>\n",
       "    <tr>\n",
       "      <th>2096</th>\n",
       "      <td>23.928879</td>\n",
       "      <td>88.071123</td>\n",
       "      <td>154.660874</td>\n",
       "      <td>jute</td>\n",
       "    </tr>\n",
       "    <tr>\n",
       "      <th>2097</th>\n",
       "      <td>24.814412</td>\n",
       "      <td>81.686889</td>\n",
       "      <td>190.788639</td>\n",
       "      <td>jute</td>\n",
       "    </tr>\n",
       "    <tr>\n",
       "      <th>2098</th>\n",
       "      <td>24.447439</td>\n",
       "      <td>82.286484</td>\n",
       "      <td>190.968489</td>\n",
       "      <td>jute</td>\n",
       "    </tr>\n",
       "    <tr>\n",
       "      <th>2099</th>\n",
       "      <td>26.574217</td>\n",
       "      <td>73.819949</td>\n",
       "      <td>159.322307</td>\n",
       "      <td>jute</td>\n",
       "    </tr>\n",
       "  </tbody>\n",
       "</table>\n",
       "<p>1200 rows × 4 columns</p>\n",
       "</div>"
      ],
      "text/plain": [
       "      temperature   humidity    rainfall label\n",
       "0       20.879744  82.002744  202.935536  rice\n",
       "1       21.770462  80.319644  226.655537  rice\n",
       "2       23.004459  82.320763  263.964248  rice\n",
       "3       26.491096  80.158363  242.864034  rice\n",
       "4       20.130175  81.604873  262.717340  rice\n",
       "...           ...        ...         ...   ...\n",
       "2095    23.874845  86.792613  177.514731  jute\n",
       "2096    23.928879  88.071123  154.660874  jute\n",
       "2097    24.814412  81.686889  190.788639  jute\n",
       "2098    24.447439  82.286484  190.968489  jute\n",
       "2099    26.574217  73.819949  159.322307  jute\n",
       "\n",
       "[1200 rows x 4 columns]"
      ]
     },
     "execution_count": 115,
     "metadata": {},
     "output_type": "execute_result"
    }
   ],
   "source": [
    "cd = cd.loc[cd['label'].isin(common_list)]\n",
    "cd"
   ]
  },
  {
   "cell_type": "code",
   "execution_count": 116,
   "id": "e2c6681a",
   "metadata": {},
   "outputs": [
    {
     "data": {
      "text/plain": [
       "<AxesSubplot: xlabel='label'>"
      ]
     },
     "execution_count": 116,
     "metadata": {},
     "output_type": "execute_result"
    },
    {
     "data": {
      "image/png": "[encoded data removed]",
      "text/plain": [
       "<Figure size 1440x720 with 1 Axes>"
      ]
     },
     "metadata": {
      "needs_background": "light"
     },
     "output_type": "display_data"
    }
   ],
   "source": [
    "fig = plt.figure(figsize = (20, 10))\n",
    "tempd = cd.groupby('label').mean()\n",
    "tempd['rainfall'].plot.bar()"
   ]
  },
  {
   "cell_type": "markdown",
   "id": "7c4833fb",
   "metadata": {},
   "source": [
    "## Rainfall Data"
   ]
  },
  {
   "cell_type": "code",
   "execution_count": 117,
   "id": "b8f7b5c0",
   "metadata": {},
   "outputs": [],
   "source": [
    "rainfall_data = pd.read_csv('rainfall-india.csv')"
   ]
  },
  {
   "cell_type": "code",
   "execution_count": 118,
   "id": "7694ea38",
   "metadata": {},
   "outputs": [
    {
     "data": {
      "text/html": [
       "<div>\n",
       "<style scoped>\n",
       "    .dataframe tbody tr th:only-of-type {\n",
       "        vertical-align: middle;\n",
       "    }\n",
       "\n",
       "    .dataframe tbody tr th {\n",
       "        vertical-align: top;\n",
       "    }\n",
       "\n",
       "    .dataframe thead th {\n",
       "        text-align: right;\n",
       "    }\n",
       "</style>\n",
       "<table border=\"1\" class=\"dataframe\">\n",
       "  <thead>\n",
       "    <tr style=\"text-align: right;\">\n",
       "      <th></th>\n",
       "      <th>SUBDIVISION</th>\n",
       "      <th>YEAR</th>\n",
       "      <th>JAN</th>\n",
       "      <th>FEB</th>\n",
       "      <th>MAR</th>\n",
       "      <th>APR</th>\n",
       "      <th>MAY</th>\n",
       "      <th>JUN</th>\n",
       "      <th>JUL</th>\n",
       "      <th>AUG</th>\n",
       "      <th>SEP</th>\n",
       "      <th>OCT</th>\n",
       "      <th>NOV</th>\n",
       "      <th>DEC</th>\n",
       "      <th>ANNUAL</th>\n",
       "      <th>Jan-Feb</th>\n",
       "      <th>Mar-May</th>\n",
       "      <th>Jun-Sep</th>\n",
       "      <th>Oct-Dec</th>\n",
       "    </tr>\n",
       "  </thead>\n",
       "  <tbody>\n",
       "    <tr>\n",
       "      <th>0</th>\n",
       "      <td>ANDAMAN &amp; NICOBAR ISLANDS</td>\n",
       "      <td>1901</td>\n",
       "      <td>49.2</td>\n",
       "      <td>87.1</td>\n",
       "      <td>29.2</td>\n",
       "      <td>2.3</td>\n",
       "      <td>528.8</td>\n",
       "      <td>517.5</td>\n",
       "      <td>365.1</td>\n",
       "      <td>481.1</td>\n",
       "      <td>332.6</td>\n",
       "      <td>388.5</td>\n",
       "      <td>558.2</td>\n",
       "      <td>33.6</td>\n",
       "      <td>3373.2</td>\n",
       "      <td>136.3</td>\n",
       "      <td>560.3</td>\n",
       "      <td>1696.3</td>\n",
       "      <td>980.3</td>\n",
       "    </tr>\n",
       "    <tr>\n",
       "      <th>1</th>\n",
       "      <td>ANDAMAN &amp; NICOBAR ISLANDS</td>\n",
       "      <td>1902</td>\n",
       "      <td>0.0</td>\n",
       "      <td>159.8</td>\n",
       "      <td>12.2</td>\n",
       "      <td>0.0</td>\n",
       "      <td>446.1</td>\n",
       "      <td>537.1</td>\n",
       "      <td>228.9</td>\n",
       "      <td>753.7</td>\n",
       "      <td>666.2</td>\n",
       "      <td>197.2</td>\n",
       "      <td>359.0</td>\n",
       "      <td>160.5</td>\n",
       "      <td>3520.7</td>\n",
       "      <td>159.8</td>\n",
       "      <td>458.3</td>\n",
       "      <td>2185.9</td>\n",
       "      <td>716.7</td>\n",
       "    </tr>\n",
       "    <tr>\n",
       "      <th>2</th>\n",
       "      <td>ANDAMAN &amp; NICOBAR ISLANDS</td>\n",
       "      <td>1903</td>\n",
       "      <td>12.7</td>\n",
       "      <td>144.0</td>\n",
       "      <td>0.0</td>\n",
       "      <td>1.0</td>\n",
       "      <td>235.1</td>\n",
       "      <td>479.9</td>\n",
       "      <td>728.4</td>\n",
       "      <td>326.7</td>\n",
       "      <td>339.0</td>\n",
       "      <td>181.2</td>\n",
       "      <td>284.4</td>\n",
       "      <td>225.0</td>\n",
       "      <td>2957.4</td>\n",
       "      <td>156.7</td>\n",
       "      <td>236.1</td>\n",
       "      <td>1874.0</td>\n",
       "      <td>690.6</td>\n",
       "    </tr>\n",
       "    <tr>\n",
       "      <th>3</th>\n",
       "      <td>ANDAMAN &amp; NICOBAR ISLANDS</td>\n",
       "      <td>1904</td>\n",
       "      <td>9.4</td>\n",
       "      <td>14.7</td>\n",
       "      <td>0.0</td>\n",
       "      <td>202.4</td>\n",
       "      <td>304.5</td>\n",
       "      <td>495.1</td>\n",
       "      <td>502.0</td>\n",
       "      <td>160.1</td>\n",
       "      <td>820.4</td>\n",
       "      <td>222.2</td>\n",
       "      <td>308.7</td>\n",
       "      <td>40.1</td>\n",
       "      <td>3079.6</td>\n",
       "      <td>24.1</td>\n",
       "      <td>506.9</td>\n",
       "      <td>1977.6</td>\n",
       "      <td>571.0</td>\n",
       "    </tr>\n",
       "    <tr>\n",
       "      <th>4</th>\n",
       "      <td>ANDAMAN &amp; NICOBAR ISLANDS</td>\n",
       "      <td>1905</td>\n",
       "      <td>1.3</td>\n",
       "      <td>0.0</td>\n",
       "      <td>3.3</td>\n",
       "      <td>26.9</td>\n",
       "      <td>279.5</td>\n",
       "      <td>628.7</td>\n",
       "      <td>368.7</td>\n",
       "      <td>330.5</td>\n",
       "      <td>297.0</td>\n",
       "      <td>260.7</td>\n",
       "      <td>25.4</td>\n",
       "      <td>344.7</td>\n",
       "      <td>2566.7</td>\n",
       "      <td>1.3</td>\n",
       "      <td>309.7</td>\n",
       "      <td>1624.9</td>\n",
       "      <td>630.8</td>\n",
       "    </tr>\n",
       "  </tbody>\n",
       "</table>\n",
       "</div>"
      ],
      "text/plain": [
       "                 SUBDIVISION  YEAR   JAN    FEB   MAR    APR    MAY    JUN  \\\n",
       "0  ANDAMAN & NICOBAR ISLANDS  1901  49.2   87.1  29.2    2.3  528.8  517.5   \n",
       "1  ANDAMAN & NICOBAR ISLANDS  1902   0.0  159.8  12.2    0.0  446.1  537.1   \n",
       "2  ANDAMAN & NICOBAR ISLANDS  1903  12.7  144.0   0.0    1.0  235.1  479.9   \n",
       "3  ANDAMAN & NICOBAR ISLANDS  1904   9.4   14.7   0.0  202.4  304.5  495.1   \n",
       "4  ANDAMAN & NICOBAR ISLANDS  1905   1.3    0.0   3.3   26.9  279.5  628.7   \n",
       "\n",
       "     JUL    AUG    SEP    OCT    NOV    DEC  ANNUAL  Jan-Feb  Mar-May  \\\n",
       "0  365.1  481.1  332.6  388.5  558.2   33.6  3373.2    136.3    560.3   \n",
       "1  228.9  753.7  666.2  197.2  359.0  160.5  3520.7    159.8    458.3   \n",
       "2  728.4  326.7  339.0  181.2  284.4  225.0  2957.4    156.7    236.1   \n",
       "3  502.0  160.1  820.4  222.2  308.7   40.1  3079.6     24.1    506.9   \n",
       "4  368.7  330.5  297.0  260.7   25.4  344.7  2566.7      1.3    309.7   \n",
       "\n",
       "   Jun-Sep  Oct-Dec  \n",
       "0   1696.3    980.3  \n",
       "1   2185.9    716.7  \n",
       "2   1874.0    690.6  \n",
       "3   1977.6    571.0  \n",
       "4   1624.9    630.8  "
      ]
     },
     "execution_count": 118,
     "metadata": {},
     "output_type": "execute_result"
    }
   ],
   "source": [
    "rainfall_data.head()"
   ]
  },
  {
   "cell_type": "code",
   "execution_count": 119,
   "id": "b4f3d94f",
   "metadata": {},
   "outputs": [
    {
     "data": {
      "text/html": [
       "<div>\n",
       "<style scoped>\n",
       "    .dataframe tbody tr th:only-of-type {\n",
       "        vertical-align: middle;\n",
       "    }\n",
       "\n",
       "    .dataframe tbody tr th {\n",
       "        vertical-align: top;\n",
       "    }\n",
       "\n",
       "    .dataframe thead th {\n",
       "        text-align: right;\n",
       "    }\n",
       "</style>\n",
       "<table border=\"1\" class=\"dataframe\">\n",
       "  <thead>\n",
       "    <tr style=\"text-align: right;\">\n",
       "      <th></th>\n",
       "      <th>SUBDIVISION</th>\n",
       "      <th>YEAR</th>\n",
       "      <th>Jan-Feb</th>\n",
       "      <th>Mar-May</th>\n",
       "      <th>Jun-Sep</th>\n",
       "      <th>Oct-Dec</th>\n",
       "    </tr>\n",
       "  </thead>\n",
       "  <tbody>\n",
       "    <tr>\n",
       "      <th>0</th>\n",
       "      <td>ANDAMAN &amp; NICOBAR ISLANDS</td>\n",
       "      <td>1901</td>\n",
       "      <td>136.3</td>\n",
       "      <td>560.3</td>\n",
       "      <td>1696.3</td>\n",
       "      <td>980.3</td>\n",
       "    </tr>\n",
       "    <tr>\n",
       "      <th>1</th>\n",
       "      <td>ANDAMAN &amp; NICOBAR ISLANDS</td>\n",
       "      <td>1902</td>\n",
       "      <td>159.8</td>\n",
       "      <td>458.3</td>\n",
       "      <td>2185.9</td>\n",
       "      <td>716.7</td>\n",
       "    </tr>\n",
       "    <tr>\n",
       "      <th>2</th>\n",
       "      <td>ANDAMAN &amp; NICOBAR ISLANDS</td>\n",
       "      <td>1903</td>\n",
       "      <td>156.7</td>\n",
       "      <td>236.1</td>\n",
       "      <td>1874.0</td>\n",
       "      <td>690.6</td>\n",
       "    </tr>\n",
       "    <tr>\n",
       "      <th>3</th>\n",
       "      <td>ANDAMAN &amp; NICOBAR ISLANDS</td>\n",
       "      <td>1904</td>\n",
       "      <td>24.1</td>\n",
       "      <td>506.9</td>\n",
       "      <td>1977.6</td>\n",
       "      <td>571.0</td>\n",
       "    </tr>\n",
       "    <tr>\n",
       "      <th>4</th>\n",
       "      <td>ANDAMAN &amp; NICOBAR ISLANDS</td>\n",
       "      <td>1905</td>\n",
       "      <td>1.3</td>\n",
       "      <td>309.7</td>\n",
       "      <td>1624.9</td>\n",
       "      <td>630.8</td>\n",
       "    </tr>\n",
       "    <tr>\n",
       "      <th>...</th>\n",
       "      <td>...</td>\n",
       "      <td>...</td>\n",
       "      <td>...</td>\n",
       "      <td>...</td>\n",
       "      <td>...</td>\n",
       "      <td>...</td>\n",
       "    </tr>\n",
       "    <tr>\n",
       "      <th>4111</th>\n",
       "      <td>LAKSHADWEEP</td>\n",
       "      <td>2011</td>\n",
       "      <td>7.9</td>\n",
       "      <td>196.2</td>\n",
       "      <td>1013.0</td>\n",
       "      <td>316.6</td>\n",
       "    </tr>\n",
       "    <tr>\n",
       "      <th>4112</th>\n",
       "      <td>LAKSHADWEEP</td>\n",
       "      <td>2012</td>\n",
       "      <td>19.3</td>\n",
       "      <td>99.6</td>\n",
       "      <td>1119.5</td>\n",
       "      <td>167.1</td>\n",
       "    </tr>\n",
       "    <tr>\n",
       "      <th>4113</th>\n",
       "      <td>LAKSHADWEEP</td>\n",
       "      <td>2013</td>\n",
       "      <td>60.6</td>\n",
       "      <td>131.1</td>\n",
       "      <td>1057.0</td>\n",
       "      <td>177.6</td>\n",
       "    </tr>\n",
       "    <tr>\n",
       "      <th>4114</th>\n",
       "      <td>LAKSHADWEEP</td>\n",
       "      <td>2014</td>\n",
       "      <td>69.3</td>\n",
       "      <td>76.7</td>\n",
       "      <td>958.5</td>\n",
       "      <td>290.5</td>\n",
       "    </tr>\n",
       "    <tr>\n",
       "      <th>4115</th>\n",
       "      <td>LAKSHADWEEP</td>\n",
       "      <td>2015</td>\n",
       "      <td>2.7</td>\n",
       "      <td>223.9</td>\n",
       "      <td>860.9</td>\n",
       "      <td>555.4</td>\n",
       "    </tr>\n",
       "  </tbody>\n",
       "</table>\n",
       "<p>4116 rows × 6 columns</p>\n",
       "</div>"
      ],
      "text/plain": [
       "                    SUBDIVISION  YEAR  Jan-Feb  Mar-May  Jun-Sep  Oct-Dec\n",
       "0     ANDAMAN & NICOBAR ISLANDS  1901    136.3    560.3   1696.3    980.3\n",
       "1     ANDAMAN & NICOBAR ISLANDS  1902    159.8    458.3   2185.9    716.7\n",
       "2     ANDAMAN & NICOBAR ISLANDS  1903    156.7    236.1   1874.0    690.6\n",
       "3     ANDAMAN & NICOBAR ISLANDS  1904     24.1    506.9   1977.6    571.0\n",
       "4     ANDAMAN & NICOBAR ISLANDS  1905      1.3    309.7   1624.9    630.8\n",
       "...                         ...   ...      ...      ...      ...      ...\n",
       "4111                LAKSHADWEEP  2011      7.9    196.2   1013.0    316.6\n",
       "4112                LAKSHADWEEP  2012     19.3     99.6   1119.5    167.1\n",
       "4113                LAKSHADWEEP  2013     60.6    131.1   1057.0    177.6\n",
       "4114                LAKSHADWEEP  2014     69.3     76.7    958.5    290.5\n",
       "4115                LAKSHADWEEP  2015      2.7    223.9    860.9    555.4\n",
       "\n",
       "[4116 rows x 6 columns]"
      ]
     },
     "execution_count": 119,
     "metadata": {},
     "output_type": "execute_result"
    }
   ],
   "source": [
    "rainfall_data = rainfall_data[['SUBDIVISION', 'YEAR','Jan-Feb', 'Mar-May', 'Jun-Sep', 'Oct-Dec']]\n",
    "rainfall_data"
   ]
  },
  {
   "cell_type": "code",
   "execution_count": 120,
   "id": "9f0c0713",
   "metadata": {},
   "outputs": [],
   "source": [
    "rainfall_data['SUBDIVISION'] = rainfall_data['SUBDIVISION'].apply(lambda x: x.lower())"
   ]
  },
  {
   "cell_type": "code",
   "execution_count": 121,
   "id": "0701e3ca",
   "metadata": {},
   "outputs": [
    {
     "data": {
      "text/html": [
       "<div>\n",
       "<style scoped>\n",
       "    .dataframe tbody tr th:only-of-type {\n",
       "        vertical-align: middle;\n",
       "    }\n",
       "\n",
       "    .dataframe tbody tr th {\n",
       "        vertical-align: top;\n",
       "    }\n",
       "\n",
       "    .dataframe thead th {\n",
       "        text-align: right;\n",
       "    }\n",
       "</style>\n",
       "<table border=\"1\" class=\"dataframe\">\n",
       "  <thead>\n",
       "    <tr style=\"text-align: right;\">\n",
       "      <th></th>\n",
       "      <th>SUBDIVISION</th>\n",
       "      <th>YEAR</th>\n",
       "      <th>Jan-Feb</th>\n",
       "      <th>Mar-May</th>\n",
       "      <th>Jun-Sep</th>\n",
       "      <th>Oct-Dec</th>\n",
       "    </tr>\n",
       "  </thead>\n",
       "  <tbody>\n",
       "    <tr>\n",
       "      <th>0</th>\n",
       "      <td>andaman &amp; nicobar islands</td>\n",
       "      <td>1901</td>\n",
       "      <td>136.3</td>\n",
       "      <td>560.3</td>\n",
       "      <td>1696.3</td>\n",
       "      <td>980.3</td>\n",
       "    </tr>\n",
       "    <tr>\n",
       "      <th>1</th>\n",
       "      <td>andaman &amp; nicobar islands</td>\n",
       "      <td>1902</td>\n",
       "      <td>159.8</td>\n",
       "      <td>458.3</td>\n",
       "      <td>2185.9</td>\n",
       "      <td>716.7</td>\n",
       "    </tr>\n",
       "    <tr>\n",
       "      <th>2</th>\n",
       "      <td>andaman &amp; nicobar islands</td>\n",
       "      <td>1903</td>\n",
       "      <td>156.7</td>\n",
       "      <td>236.1</td>\n",
       "      <td>1874.0</td>\n",
       "      <td>690.6</td>\n",
       "    </tr>\n",
       "    <tr>\n",
       "      <th>3</th>\n",
       "      <td>andaman &amp; nicobar islands</td>\n",
       "      <td>1904</td>\n",
       "      <td>24.1</td>\n",
       "      <td>506.9</td>\n",
       "      <td>1977.6</td>\n",
       "      <td>571.0</td>\n",
       "    </tr>\n",
       "    <tr>\n",
       "      <th>4</th>\n",
       "      <td>andaman &amp; nicobar islands</td>\n",
       "      <td>1905</td>\n",
       "      <td>1.3</td>\n",
       "      <td>309.7</td>\n",
       "      <td>1624.9</td>\n",
       "      <td>630.8</td>\n",
       "    </tr>\n",
       "    <tr>\n",
       "      <th>...</th>\n",
       "      <td>...</td>\n",
       "      <td>...</td>\n",
       "      <td>...</td>\n",
       "      <td>...</td>\n",
       "      <td>...</td>\n",
       "      <td>...</td>\n",
       "    </tr>\n",
       "    <tr>\n",
       "      <th>4111</th>\n",
       "      <td>lakshadweep</td>\n",
       "      <td>2011</td>\n",
       "      <td>7.9</td>\n",
       "      <td>196.2</td>\n",
       "      <td>1013.0</td>\n",
       "      <td>316.6</td>\n",
       "    </tr>\n",
       "    <tr>\n",
       "      <th>4112</th>\n",
       "      <td>lakshadweep</td>\n",
       "      <td>2012</td>\n",
       "      <td>19.3</td>\n",
       "      <td>99.6</td>\n",
       "      <td>1119.5</td>\n",
       "      <td>167.1</td>\n",
       "    </tr>\n",
       "    <tr>\n",
       "      <th>4113</th>\n",
       "      <td>lakshadweep</td>\n",
       "      <td>2013</td>\n",
       "      <td>60.6</td>\n",
       "      <td>131.1</td>\n",
       "      <td>1057.0</td>\n",
       "      <td>177.6</td>\n",
       "    </tr>\n",
       "    <tr>\n",
       "      <th>4114</th>\n",
       "      <td>lakshadweep</td>\n",
       "      <td>2014</td>\n",
       "      <td>69.3</td>\n",
       "      <td>76.7</td>\n",
       "      <td>958.5</td>\n",
       "      <td>290.5</td>\n",
       "    </tr>\n",
       "    <tr>\n",
       "      <th>4115</th>\n",
       "      <td>lakshadweep</td>\n",
       "      <td>2015</td>\n",
       "      <td>2.7</td>\n",
       "      <td>223.9</td>\n",
       "      <td>860.9</td>\n",
       "      <td>555.4</td>\n",
       "    </tr>\n",
       "  </tbody>\n",
       "</table>\n",
       "<p>4116 rows × 6 columns</p>\n",
       "</div>"
      ],
      "text/plain": [
       "                    SUBDIVISION  YEAR  Jan-Feb  Mar-May  Jun-Sep  Oct-Dec\n",
       "0     andaman & nicobar islands  1901    136.3    560.3   1696.3    980.3\n",
       "1     andaman & nicobar islands  1902    159.8    458.3   2185.9    716.7\n",
       "2     andaman & nicobar islands  1903    156.7    236.1   1874.0    690.6\n",
       "3     andaman & nicobar islands  1904     24.1    506.9   1977.6    571.0\n",
       "4     andaman & nicobar islands  1905      1.3    309.7   1624.9    630.8\n",
       "...                         ...   ...      ...      ...      ...      ...\n",
       "4111                lakshadweep  2011      7.9    196.2   1013.0    316.6\n",
       "4112                lakshadweep  2012     19.3     99.6   1119.5    167.1\n",
       "4113                lakshadweep  2013     60.6    131.1   1057.0    177.6\n",
       "4114                lakshadweep  2014     69.3     76.7    958.5    290.5\n",
       "4115                lakshadweep  2015      2.7    223.9    860.9    555.4\n",
       "\n",
       "[4116 rows x 6 columns]"
      ]
     },
     "execution_count": 121,
     "metadata": {},
     "output_type": "execute_result"
    }
   ],
   "source": [
    "rainfall_data"
   ]
  },
  {
   "cell_type": "code",
   "execution_count": 122,
   "id": "00165a34",
   "metadata": {},
   "outputs": [],
   "source": [
    "array3 = rainfall_data.SUBDIVISION.unique()"
   ]
  },
  {
   "cell_type": "code",
   "execution_count": 123,
   "id": "379af31e",
   "metadata": {},
   "outputs": [],
   "source": [
    "rd = rainfall_data"
   ]
  },
  {
   "cell_type": "code",
   "execution_count": 124,
   "id": "47e5f99d",
   "metadata": {},
   "outputs": [
    {
     "data": {
      "text/plain": [
       "<AxesSubplot: xlabel='SUBDIVISION'>"
      ]
     },
     "execution_count": 124,
     "metadata": {},
     "output_type": "execute_result"
    },
    {
     "data": {
      "image/png": "[encoded data removed]",
      "text/plain": [
       "<Figure size 432x288 with 1 Axes>"
      ]
     },
     "metadata": {
      "needs_background": "light"
     },
     "output_type": "display_data"
    }
   ],
   "source": [
    "tempd = rd.groupby('SUBDIVISION')[['Jan-Feb', 'Mar-May', 'Jun-Sep', 'Oct-Dec']].mean()\n",
    "tempd['Jan-Feb'].plot.bar()"
   ]
  },
  {
   "cell_type": "code",
   "execution_count": 125,
   "id": "5587af36",
   "metadata": {},
   "outputs": [
    {
     "data": {
      "text/plain": [
       "<AxesSubplot: xlabel='SUBDIVISION'>"
      ]
     },
     "execution_count": 125,
     "metadata": {},
     "output_type": "execute_result"
    },
    {
     "data": {
      "image/png": "[encoded data removed]",
      "text/plain": [
       "<Figure size 432x288 with 1 Axes>"
      ]
     },
     "metadata": {
      "needs_background": "light"
     },
     "output_type": "display_data"
    }
   ],
   "source": [
    "tempd['Mar-May'].plot.bar()"
   ]
  },
  {
   "cell_type": "code",
   "execution_count": 126,
   "id": "d771af34",
   "metadata": {},
   "outputs": [
    {
     "data": {
      "text/plain": [
       "<AxesSubplot: xlabel='SUBDIVISION'>"
      ]
     },
     "execution_count": 126,
     "metadata": {},
     "output_type": "execute_result"
    },
    {
     "data": {
      "image/png": "[encoded data removed]",
      "text/plain": [
       "<Figure size 432x288 with 1 Axes>"
      ]
     },
     "metadata": {
      "needs_background": "light"
     },
     "output_type": "display_data"
    }
   ],
   "source": [
    "tempd['Jun-Sep'].plot.bar()"
   ]
  },
  {
   "cell_type": "code",
   "execution_count": 127,
   "id": "707f89f8",
   "metadata": {},
   "outputs": [
    {
     "data": {
      "text/plain": [
       "<AxesSubplot: xlabel='SUBDIVISION'>"
      ]
     },
     "execution_count": 127,
     "metadata": {},
     "output_type": "execute_result"
    },
    {
     "data": {
      "image/png": "[encoded data removed]",
      "text/plain": [
       "<Figure size 432x288 with 1 Axes>"
      ]
     },
     "metadata": {
      "needs_background": "light"
     },
     "output_type": "display_data"
    }
   ],
   "source": [
    "tempd['Oct-Dec'].plot.bar()"
   ]
  },
  {
   "cell_type": "markdown",
   "id": "e36fa691",
   "metadata": {},
   "source": [
    "## Weather Data"
   ]
  },
  {
   "cell_type": "code",
   "execution_count": 128,
   "id": "4254e4db",
   "metadata": {},
   "outputs": [],
   "source": [
    "weather_data = pd.read_csv('weather-data.csv')"
   ]
  },
  {
   "cell_type": "code",
   "execution_count": 129,
   "id": "0724496f",
   "metadata": {},
   "outputs": [
    {
     "data": {
      "text/html": [
       "<div>\n",
       "<style scoped>\n",
       "    .dataframe tbody tr th:only-of-type {\n",
       "        vertical-align: middle;\n",
       "    }\n",
       "\n",
       "    .dataframe tbody tr th {\n",
       "        vertical-align: top;\n",
       "    }\n",
       "\n",
       "    .dataframe thead th {\n",
       "        text-align: right;\n",
       "    }\n",
       "</style>\n",
       "<table border=\"1\" class=\"dataframe\">\n",
       "  <thead>\n",
       "    <tr style=\"text-align: right;\">\n",
       "      <th></th>\n",
       "      <th>longitude</th>\n",
       "      <th>Latitude</th>\n",
       "      <th>Elevation</th>\n",
       "      <th>Location_Name</th>\n",
       "      <th>Temp</th>\n",
       "      <th>Prcp</th>\n",
       "    </tr>\n",
       "  </thead>\n",
       "  <tbody>\n",
       "    <tr>\n",
       "      <th>0</th>\n",
       "      <td>73.0167</td>\n",
       "      <td>26.3000</td>\n",
       "      <td>217.0</td>\n",
       "      <td>Bangalore</td>\n",
       "      <td>23.840426</td>\n",
       "      <td>4.414119</td>\n",
       "    </tr>\n",
       "    <tr>\n",
       "      <th>1</th>\n",
       "      <td>80.2500</td>\n",
       "      <td>13.0667</td>\n",
       "      <td>6.0</td>\n",
       "      <td>Chennai</td>\n",
       "      <td>28.490798</td>\n",
       "      <td>6.244378</td>\n",
       "    </tr>\n",
       "    <tr>\n",
       "      <th>2</th>\n",
       "      <td>77.2000</td>\n",
       "      <td>28.5833</td>\n",
       "      <td>211.0</td>\n",
       "      <td>Delhi</td>\n",
       "      <td>24.996415</td>\n",
       "      <td>3.662478</td>\n",
       "    </tr>\n",
       "    <tr>\n",
       "      <th>3</th>\n",
       "      <td>80.9330</td>\n",
       "      <td>26.8667</td>\n",
       "      <td>110.0</td>\n",
       "      <td>Lucknow</td>\n",
       "      <td>25.221240</td>\n",
       "      <td>4.535650</td>\n",
       "    </tr>\n",
       "    <tr>\n",
       "      <th>4</th>\n",
       "      <td>72.8500</td>\n",
       "      <td>19.1167</td>\n",
       "      <td>8.0</td>\n",
       "      <td>Mumbai</td>\n",
       "      <td>27.762509</td>\n",
       "      <td>10.942007</td>\n",
       "    </tr>\n",
       "    <tr>\n",
       "      <th>5</th>\n",
       "      <td>77.5833</td>\n",
       "      <td>12.9667</td>\n",
       "      <td>920.0</td>\n",
       "      <td>Rajastan</td>\n",
       "      <td>23.840426</td>\n",
       "      <td>4.414119</td>\n",
       "    </tr>\n",
       "    <tr>\n",
       "      <th>6</th>\n",
       "      <td>85.8333</td>\n",
       "      <td>20.2500</td>\n",
       "      <td>NaN</td>\n",
       "      <td>Bubhneshwar</td>\n",
       "      <td>26.991617</td>\n",
       "      <td>7.073603</td>\n",
       "    </tr>\n",
       "    <tr>\n",
       "      <th>7</th>\n",
       "      <td>84.8833</td>\n",
       "      <td>22.2167</td>\n",
       "      <td>NaN</td>\n",
       "      <td>Rourkela</td>\n",
       "      <td>26.710142</td>\n",
       "      <td>5.695035</td>\n",
       "    </tr>\n",
       "  </tbody>\n",
       "</table>\n",
       "</div>"
      ],
      "text/plain": [
       "   longitude  Latitude  Elevation Location_Name       Temp       Prcp\n",
       "0    73.0167   26.3000      217.0     Bangalore  23.840426   4.414119\n",
       "1    80.2500   13.0667        6.0       Chennai  28.490798   6.244378\n",
       "2    77.2000   28.5833      211.0         Delhi  24.996415   3.662478\n",
       "3    80.9330   26.8667      110.0       Lucknow  25.221240   4.535650\n",
       "4    72.8500   19.1167        8.0        Mumbai  27.762509  10.942007\n",
       "5    77.5833   12.9667      920.0      Rajastan  23.840426   4.414119\n",
       "6    85.8333   20.2500        NaN   Bubhneshwar  26.991617   7.073603\n",
       "7    84.8833   22.2167        NaN      Rourkela  26.710142   5.695035"
      ]
     },
     "execution_count": 129,
     "metadata": {},
     "output_type": "execute_result"
    }
   ],
   "source": [
    "weather_data['Temp'] = [23.840426, 28.490798, 24.996415, 25.221240, 27.762509, 23.840426, 26.991617, 26.710142]\n",
    "weather_data['Prcp'] = [4.414119, 6.244378, 3.662478, 4.535650, 10.942007, 4.414119, 7.073603, 5.695035]\n",
    "weather_data"
   ]
  },
  {
   "cell_type": "markdown",
   "id": "007cf0b9",
   "metadata": {},
   "source": [
    "No real leads, thus this line of inquiry is abandoned."
   ]
  },
  {
   "cell_type": "markdown",
   "id": "76d5bac8",
   "metadata": {},
   "source": [
    "# Collating the Data"
   ]
  },
  {
   "cell_type": "code",
   "execution_count": 130,
   "id": "f0dedd50",
   "metadata": {},
   "outputs": [
    {
     "data": {
      "text/html": [
       "<div>\n",
       "<style scoped>\n",
       "    .dataframe tbody tr th:only-of-type {\n",
       "        vertical-align: middle;\n",
       "    }\n",
       "\n",
       "    .dataframe tbody tr th {\n",
       "        vertical-align: top;\n",
       "    }\n",
       "\n",
       "    .dataframe thead th {\n",
       "        text-align: right;\n",
       "    }\n",
       "</style>\n",
       "<table border=\"1\" class=\"dataframe\">\n",
       "  <thead>\n",
       "    <tr style=\"text-align: right;\">\n",
       "      <th></th>\n",
       "      <th>state</th>\n",
       "      <th>commodity</th>\n",
       "      <th>modal_price</th>\n",
       "    </tr>\n",
       "  </thead>\n",
       "  <tbody>\n",
       "    <tr>\n",
       "      <th>11</th>\n",
       "      <td>Andaman and Nicobar</td>\n",
       "      <td>coconut</td>\n",
       "      <td>5600</td>\n",
       "    </tr>\n",
       "    <tr>\n",
       "      <th>23</th>\n",
       "      <td>Assam</td>\n",
       "      <td>rice</td>\n",
       "      <td>2400</td>\n",
       "    </tr>\n",
       "    <tr>\n",
       "      <th>24</th>\n",
       "      <td>Assam</td>\n",
       "      <td>rice</td>\n",
       "      <td>2800</td>\n",
       "    </tr>\n",
       "    <tr>\n",
       "      <th>43</th>\n",
       "      <td>Assam</td>\n",
       "      <td>jute</td>\n",
       "      <td>2800</td>\n",
       "    </tr>\n",
       "    <tr>\n",
       "      <th>46</th>\n",
       "      <td>Assam</td>\n",
       "      <td>rice</td>\n",
       "      <td>4500</td>\n",
       "    </tr>\n",
       "    <tr>\n",
       "      <th>...</th>\n",
       "      <td>...</td>\n",
       "      <td>...</td>\n",
       "      <td>...</td>\n",
       "    </tr>\n",
       "    <tr>\n",
       "      <th>2229</th>\n",
       "      <td>West Bengal</td>\n",
       "      <td>rice</td>\n",
       "      <td>4400</td>\n",
       "    </tr>\n",
       "    <tr>\n",
       "      <th>2232</th>\n",
       "      <td>West Bengal</td>\n",
       "      <td>jute</td>\n",
       "      <td>4600</td>\n",
       "    </tr>\n",
       "    <tr>\n",
       "      <th>2234</th>\n",
       "      <td>West Bengal</td>\n",
       "      <td>rice</td>\n",
       "      <td>3600</td>\n",
       "    </tr>\n",
       "    <tr>\n",
       "      <th>2235</th>\n",
       "      <td>West Bengal</td>\n",
       "      <td>jute</td>\n",
       "      <td>4500</td>\n",
       "    </tr>\n",
       "    <tr>\n",
       "      <th>2236</th>\n",
       "      <td>West Bengal</td>\n",
       "      <td>rice</td>\n",
       "      <td>3500</td>\n",
       "    </tr>\n",
       "  </tbody>\n",
       "</table>\n",
       "<p>314 rows × 3 columns</p>\n",
       "</div>"
      ],
      "text/plain": [
       "                    state commodity  modal_price\n",
       "11    Andaman and Nicobar   coconut         5600\n",
       "23                  Assam      rice         2400\n",
       "24                  Assam      rice         2800\n",
       "43                  Assam      jute         2800\n",
       "46                  Assam      rice         4500\n",
       "...                   ...       ...          ...\n",
       "2229          West Bengal      rice         4400\n",
       "2232          West Bengal      jute         4600\n",
       "2234          West Bengal      rice         3600\n",
       "2235          West Bengal      jute         4500\n",
       "2236          West Bengal      rice         3500\n",
       "\n",
       "[314 rows x 3 columns]"
      ]
     },
     "execution_count": 130,
     "metadata": {},
     "output_type": "execute_result"
    }
   ],
   "source": [
    "ad.groupby(['state']).mean()\n",
    "ad"
   ]
  },
  {
   "cell_type": "code",
   "execution_count": 131,
   "id": "cffb1038",
   "metadata": {},
   "outputs": [
    {
     "data": {
      "text/html": [
       "<div>\n",
       "<style scoped>\n",
       "    .dataframe tbody tr th:only-of-type {\n",
       "        vertical-align: middle;\n",
       "    }\n",
       "\n",
       "    .dataframe tbody tr th {\n",
       "        vertical-align: top;\n",
       "    }\n",
       "\n",
       "    .dataframe thead th {\n",
       "        text-align: right;\n",
       "    }\n",
       "</style>\n",
       "<table border=\"1\" class=\"dataframe\">\n",
       "  <thead>\n",
       "    <tr style=\"text-align: right;\">\n",
       "      <th></th>\n",
       "      <th>rainfall</th>\n",
       "    </tr>\n",
       "    <tr>\n",
       "      <th>label</th>\n",
       "      <th></th>\n",
       "    </tr>\n",
       "  </thead>\n",
       "  <tbody>\n",
       "    <tr>\n",
       "      <th>apple</th>\n",
       "      <td>112.654779</td>\n",
       "    </tr>\n",
       "    <tr>\n",
       "      <th>banana</th>\n",
       "      <td>104.626980</td>\n",
       "    </tr>\n",
       "    <tr>\n",
       "      <th>coconut</th>\n",
       "      <td>175.686646</td>\n",
       "    </tr>\n",
       "    <tr>\n",
       "      <th>cotton</th>\n",
       "      <td>80.398043</td>\n",
       "    </tr>\n",
       "    <tr>\n",
       "      <th>grapes</th>\n",
       "      <td>69.611829</td>\n",
       "    </tr>\n",
       "    <tr>\n",
       "      <th>jute</th>\n",
       "      <td>174.792798</td>\n",
       "    </tr>\n",
       "    <tr>\n",
       "      <th>maize</th>\n",
       "      <td>84.766988</td>\n",
       "    </tr>\n",
       "    <tr>\n",
       "      <th>mango</th>\n",
       "      <td>94.704515</td>\n",
       "    </tr>\n",
       "    <tr>\n",
       "      <th>orange</th>\n",
       "      <td>110.474969</td>\n",
       "    </tr>\n",
       "    <tr>\n",
       "      <th>papaya</th>\n",
       "      <td>142.627839</td>\n",
       "    </tr>\n",
       "    <tr>\n",
       "      <th>pomegranate</th>\n",
       "      <td>107.528442</td>\n",
       "    </tr>\n",
       "    <tr>\n",
       "      <th>rice</th>\n",
       "      <td>236.181114</td>\n",
       "    </tr>\n",
       "  </tbody>\n",
       "</table>\n",
       "</div>"
      ],
      "text/plain": [
       "               rainfall\n",
       "label                  \n",
       "apple        112.654779\n",
       "banana       104.626980\n",
       "coconut      175.686646\n",
       "cotton        80.398043\n",
       "grapes        69.611829\n",
       "jute         174.792798\n",
       "maize         84.766988\n",
       "mango         94.704515\n",
       "orange       110.474969\n",
       "papaya       142.627839\n",
       "pomegranate  107.528442\n",
       "rice         236.181114"
      ]
     },
     "execution_count": 131,
     "metadata": {},
     "output_type": "execute_result"
    }
   ],
   "source": [
    "cd[['label','rainfall']].groupby('label').mean()"
   ]
  },
  {
   "cell_type": "code",
   "execution_count": 132,
   "id": "03a90e0f",
   "metadata": {},
   "outputs": [
    {
     "name": "stdout",
     "output_type": "stream",
     "text": [
      "{'apple': 112.654779, 'banana': 104.62698, 'coconut': 175.686646, 'cotton': 80.398043, 'grapes': 69.611829, 'jute': 174.792798, 'maize': 84.766988, 'mango': 94.704515, 'orange': 110.474969, 'papaya': 142.627839, 'pomegranate': 107.528442, 'rice': 236.181114}\n"
     ]
    }
   ],
   "source": [
    "crop_rain = {\n",
    "'apple': 112.654779,\n",
    "'banana': 104.626980,\n",
    "'coconut': 175.686646,\n",
    "'cotton': 80.398043,\n",
    "'grapes': 69.611829,\n",
    "'jute': 174.792798,\n",
    "'maize': 84.766988,\n",
    "'mango': 94.704515,\n",
    "'orange': 110.474969,\n",
    "'papaya': 142.627839,\n",
    "'pomegranate': 107.528442,\n",
    "'rice': 236.181114,\n",
    "}\n",
    "print(crop_rain)"
   ]
  },
  {
   "cell_type": "code",
   "execution_count": 43,
   "id": "9ef80796",
   "metadata": {},
   "outputs": [
    {
     "data": {
      "text/html": [
       "<div>\n",
       "<style scoped>\n",
       "    .dataframe tbody tr th:only-of-type {\n",
       "        vertical-align: middle;\n",
       "    }\n",
       "\n",
       "    .dataframe tbody tr th {\n",
       "        vertical-align: top;\n",
       "    }\n",
       "\n",
       "    .dataframe thead th {\n",
       "        text-align: right;\n",
       "    }\n",
       "</style>\n",
       "<table border=\"1\" class=\"dataframe\">\n",
       "  <thead>\n",
       "    <tr style=\"text-align: right;\">\n",
       "      <th></th>\n",
       "      <th>state</th>\n",
       "      <th>commodity</th>\n",
       "      <th>modal_price</th>\n",
       "    </tr>\n",
       "  </thead>\n",
       "  <tbody>\n",
       "    <tr>\n",
       "      <th>0</th>\n",
       "      <td>andaman and nicobar</td>\n",
       "      <td>coconut</td>\n",
       "      <td>5600.000000</td>\n",
       "    </tr>\n",
       "    <tr>\n",
       "      <th>1</th>\n",
       "      <td>assam</td>\n",
       "      <td>jute</td>\n",
       "      <td>3350.000000</td>\n",
       "    </tr>\n",
       "    <tr>\n",
       "      <th>2</th>\n",
       "      <td>assam</td>\n",
       "      <td>maize</td>\n",
       "      <td>1800.000000</td>\n",
       "    </tr>\n",
       "    <tr>\n",
       "      <th>3</th>\n",
       "      <td>assam</td>\n",
       "      <td>rice</td>\n",
       "      <td>2942.857143</td>\n",
       "    </tr>\n",
       "    <tr>\n",
       "      <th>4</th>\n",
       "      <td>gujarat</td>\n",
       "      <td>cotton</td>\n",
       "      <td>5230.000000</td>\n",
       "    </tr>\n",
       "    <tr>\n",
       "      <th>...</th>\n",
       "      <td>...</td>\n",
       "      <td>...</td>\n",
       "      <td>...</td>\n",
       "    </tr>\n",
       "    <tr>\n",
       "      <th>72</th>\n",
       "      <td>uttrakhand</td>\n",
       "      <td>orange</td>\n",
       "      <td>1800.000000</td>\n",
       "    </tr>\n",
       "    <tr>\n",
       "      <th>73</th>\n",
       "      <td>uttrakhand</td>\n",
       "      <td>papaya</td>\n",
       "      <td>700.000000</td>\n",
       "    </tr>\n",
       "    <tr>\n",
       "      <th>74</th>\n",
       "      <td>uttrakhand</td>\n",
       "      <td>pomegranate</td>\n",
       "      <td>3500.000000</td>\n",
       "    </tr>\n",
       "    <tr>\n",
       "      <th>75</th>\n",
       "      <td>west bengal</td>\n",
       "      <td>jute</td>\n",
       "      <td>4133.333333</td>\n",
       "    </tr>\n",
       "    <tr>\n",
       "      <th>76</th>\n",
       "      <td>west bengal</td>\n",
       "      <td>rice</td>\n",
       "      <td>2866.956522</td>\n",
       "    </tr>\n",
       "  </tbody>\n",
       "</table>\n",
       "<p>77 rows × 3 columns</p>\n",
       "</div>"
      ],
      "text/plain": [
       "                  state    commodity  modal_price\n",
       "0   andaman and nicobar      coconut  5600.000000\n",
       "1                 assam         jute  3350.000000\n",
       "2                 assam        maize  1800.000000\n",
       "3                 assam         rice  2942.857143\n",
       "4               gujarat       cotton  5230.000000\n",
       "..                  ...          ...          ...\n",
       "72           uttrakhand       orange  1800.000000\n",
       "73           uttrakhand       papaya   700.000000\n",
       "74           uttrakhand  pomegranate  3500.000000\n",
       "75          west bengal         jute  4133.333333\n",
       "76          west bengal         rice  2866.956522\n",
       "\n",
       "[77 rows x 3 columns]"
      ]
     },
     "execution_count": 43,
     "metadata": {},
     "output_type": "execute_result"
    }
   ],
   "source": [
    "agri = pd.read_csv('agri.csv')\n",
    "agri"
   ]
  },
  {
   "cell_type": "code",
   "execution_count": 136,
   "id": "4bbfae57",
   "metadata": {},
   "outputs": [
    {
     "name": "stderr",
     "output_type": "stream",
     "text": [
      "C:\\Users\\ADMIN\\AppData\\Local\\Temp\\ipykernel_7836\\1692606567.py:2: SettingWithCopyWarning: \n",
      "A value is trying to be set on a copy of a slice from a DataFrame.\n",
      "Try using .loc[row_indexer,col_indexer] = value instead\n",
      "\n",
      "See the caveats in the documentation: https://pandas.pydata.org/pandas-docs/stable/user_guide/indexing.html#returning-a-view-versus-a-copy\n",
      "  agri['rainfall'] = agri['commodity']\n",
      "C:\\Users\\ADMIN\\AppData\\Local\\Temp\\ipykernel_7836\\1692606567.py:3: SettingWithCopyWarning: \n",
      "A value is trying to be set on a copy of a slice from a DataFrame\n",
      "\n",
      "See the caveats in the documentation: https://pandas.pydata.org/pandas-docs/stable/user_guide/indexing.html#returning-a-view-versus-a-copy\n",
      "  agri[\"rainfall\"].replace(crop_rain, inplace=True)\n"
     ]
    },
    {
     "data": {
      "text/html": [
       "<div>\n",
       "<style scoped>\n",
       "    .dataframe tbody tr th:only-of-type {\n",
       "        vertical-align: middle;\n",
       "    }\n",
       "\n",
       "    .dataframe tbody tr th {\n",
       "        vertical-align: top;\n",
       "    }\n",
       "\n",
       "    .dataframe thead th {\n",
       "        text-align: right;\n",
       "    }\n",
       "</style>\n",
       "<table border=\"1\" class=\"dataframe\">\n",
       "  <thead>\n",
       "    <tr style=\"text-align: right;\">\n",
       "      <th></th>\n",
       "      <th>state</th>\n",
       "      <th>commodity</th>\n",
       "      <th>modal_price</th>\n",
       "      <th>rainfall</th>\n",
       "    </tr>\n",
       "  </thead>\n",
       "  <tbody>\n",
       "    <tr>\n",
       "      <th>11</th>\n",
       "      <td>Andaman and Nicobar</td>\n",
       "      <td>coconut</td>\n",
       "      <td>5600</td>\n",
       "      <td>175.686646</td>\n",
       "    </tr>\n",
       "    <tr>\n",
       "      <th>23</th>\n",
       "      <td>Assam</td>\n",
       "      <td>rice</td>\n",
       "      <td>2400</td>\n",
       "      <td>236.181114</td>\n",
       "    </tr>\n",
       "    <tr>\n",
       "      <th>24</th>\n",
       "      <td>Assam</td>\n",
       "      <td>rice</td>\n",
       "      <td>2800</td>\n",
       "      <td>236.181114</td>\n",
       "    </tr>\n",
       "    <tr>\n",
       "      <th>43</th>\n",
       "      <td>Assam</td>\n",
       "      <td>jute</td>\n",
       "      <td>2800</td>\n",
       "      <td>174.792798</td>\n",
       "    </tr>\n",
       "    <tr>\n",
       "      <th>46</th>\n",
       "      <td>Assam</td>\n",
       "      <td>rice</td>\n",
       "      <td>4500</td>\n",
       "      <td>236.181114</td>\n",
       "    </tr>\n",
       "    <tr>\n",
       "      <th>...</th>\n",
       "      <td>...</td>\n",
       "      <td>...</td>\n",
       "      <td>...</td>\n",
       "      <td>...</td>\n",
       "    </tr>\n",
       "    <tr>\n",
       "      <th>2229</th>\n",
       "      <td>West Bengal</td>\n",
       "      <td>rice</td>\n",
       "      <td>4400</td>\n",
       "      <td>236.181114</td>\n",
       "    </tr>\n",
       "    <tr>\n",
       "      <th>2232</th>\n",
       "      <td>West Bengal</td>\n",
       "      <td>jute</td>\n",
       "      <td>4600</td>\n",
       "      <td>174.792798</td>\n",
       "    </tr>\n",
       "    <tr>\n",
       "      <th>2234</th>\n",
       "      <td>West Bengal</td>\n",
       "      <td>rice</td>\n",
       "      <td>3600</td>\n",
       "      <td>236.181114</td>\n",
       "    </tr>\n",
       "    <tr>\n",
       "      <th>2235</th>\n",
       "      <td>West Bengal</td>\n",
       "      <td>jute</td>\n",
       "      <td>4500</td>\n",
       "      <td>174.792798</td>\n",
       "    </tr>\n",
       "    <tr>\n",
       "      <th>2236</th>\n",
       "      <td>West Bengal</td>\n",
       "      <td>rice</td>\n",
       "      <td>3500</td>\n",
       "      <td>236.181114</td>\n",
       "    </tr>\n",
       "  </tbody>\n",
       "</table>\n",
       "<p>314 rows × 4 columns</p>\n",
       "</div>"
      ],
      "text/plain": [
       "                    state commodity  modal_price    rainfall\n",
       "11    Andaman and Nicobar   coconut         5600  175.686646\n",
       "23                  Assam      rice         2400  236.181114\n",
       "24                  Assam      rice         2800  236.181114\n",
       "43                  Assam      jute         2800  174.792798\n",
       "46                  Assam      rice         4500  236.181114\n",
       "...                   ...       ...          ...         ...\n",
       "2229          West Bengal      rice         4400  236.181114\n",
       "2232          West Bengal      jute         4600  174.792798\n",
       "2234          West Bengal      rice         3600  236.181114\n",
       "2235          West Bengal      jute         4500  174.792798\n",
       "2236          West Bengal      rice         3500  236.181114\n",
       "\n",
       "[314 rows x 4 columns]"
      ]
     },
     "execution_count": 136,
     "metadata": {},
     "output_type": "execute_result"
    }
   ],
   "source": [
    "agri = ad\n",
    "agri['rainfall'] = agri['commodity']\n",
    "agri[\"rainfall\"].replace(crop_rain, inplace=True)\n",
    "agri"
   ]
  },
  {
   "cell_type": "code",
   "execution_count": 140,
   "id": "1ba9e228",
   "metadata": {},
   "outputs": [],
   "source": [
    "agri.to_csv('agricult-data.csv')"
   ]
  },
  {
   "cell_type": "code",
   "execution_count": 137,
   "id": "53b7f6be",
   "metadata": {},
   "outputs": [
    {
     "name": "stdout",
     "output_type": "stream",
     "text": [
      "<class 'pandas.core.frame.DataFrame'>\n",
      "RangeIndex: 4116 entries, 0 to 4115\n",
      "Data columns (total 4 columns):\n",
      " #   Column   Non-Null Count  Dtype  \n",
      "---  ------   --------------  -----  \n",
      " 0   Jan-Feb  4110 non-null   float64\n",
      " 1   Mar-May  4107 non-null   float64\n",
      " 2   Jun-Sep  4106 non-null   float64\n",
      " 3   Oct-Dec  4103 non-null   float64\n",
      "dtypes: float64(4)\n",
      "memory usage: 128.8 KB\n"
     ]
    }
   ],
   "source": [
    "rd = rd[['Jan-Feb', 'Mar-May', 'Jun-Sep', 'Oct-Dec']]\n",
    "rd.info()"
   ]
  },
  {
   "cell_type": "code",
   "execution_count": 46,
   "id": "5de0fd55",
   "metadata": {},
   "outputs": [
    {
     "data": {
      "text/html": [
       "<div>\n",
       "<style scoped>\n",
       "    .dataframe tbody tr th:only-of-type {\n",
       "        vertical-align: middle;\n",
       "    }\n",
       "\n",
       "    .dataframe tbody tr th {\n",
       "        vertical-align: top;\n",
       "    }\n",
       "\n",
       "    .dataframe thead th {\n",
       "        text-align: right;\n",
       "    }\n",
       "</style>\n",
       "<table border=\"1\" class=\"dataframe\">\n",
       "  <thead>\n",
       "    <tr style=\"text-align: right;\">\n",
       "      <th></th>\n",
       "      <th>state</th>\n",
       "      <th>commodity</th>\n",
       "      <th>modal_price</th>\n",
       "      <th>rainfall</th>\n",
       "    </tr>\n",
       "  </thead>\n",
       "  <tbody>\n",
       "    <tr>\n",
       "      <th>0</th>\n",
       "      <td>andaman and nicobar</td>\n",
       "      <td>coconut</td>\n",
       "      <td>5600.000000</td>\n",
       "      <td>175.686646</td>\n",
       "    </tr>\n",
       "    <tr>\n",
       "      <th>1</th>\n",
       "      <td>assam</td>\n",
       "      <td>jute</td>\n",
       "      <td>3350.000000</td>\n",
       "      <td>174.792798</td>\n",
       "    </tr>\n",
       "    <tr>\n",
       "      <th>2</th>\n",
       "      <td>assam</td>\n",
       "      <td>maize</td>\n",
       "      <td>1800.000000</td>\n",
       "      <td>84.766988</td>\n",
       "    </tr>\n",
       "    <tr>\n",
       "      <th>3</th>\n",
       "      <td>assam</td>\n",
       "      <td>rice</td>\n",
       "      <td>2942.857143</td>\n",
       "      <td>236.181114</td>\n",
       "    </tr>\n",
       "    <tr>\n",
       "      <th>4</th>\n",
       "      <td>gujarat</td>\n",
       "      <td>cotton</td>\n",
       "      <td>5230.000000</td>\n",
       "      <td>80.398043</td>\n",
       "    </tr>\n",
       "    <tr>\n",
       "      <th>...</th>\n",
       "      <td>...</td>\n",
       "      <td>...</td>\n",
       "      <td>...</td>\n",
       "      <td>...</td>\n",
       "    </tr>\n",
       "    <tr>\n",
       "      <th>72</th>\n",
       "      <td>uttrakhand</td>\n",
       "      <td>orange</td>\n",
       "      <td>1800.000000</td>\n",
       "      <td>110.474969</td>\n",
       "    </tr>\n",
       "    <tr>\n",
       "      <th>73</th>\n",
       "      <td>uttrakhand</td>\n",
       "      <td>papaya</td>\n",
       "      <td>700.000000</td>\n",
       "      <td>142.627839</td>\n",
       "    </tr>\n",
       "    <tr>\n",
       "      <th>74</th>\n",
       "      <td>uttrakhand</td>\n",
       "      <td>pomegranate</td>\n",
       "      <td>3500.000000</td>\n",
       "      <td>107.528442</td>\n",
       "    </tr>\n",
       "    <tr>\n",
       "      <th>75</th>\n",
       "      <td>west bengal</td>\n",
       "      <td>jute</td>\n",
       "      <td>4133.333333</td>\n",
       "      <td>174.792798</td>\n",
       "    </tr>\n",
       "    <tr>\n",
       "      <th>76</th>\n",
       "      <td>west bengal</td>\n",
       "      <td>rice</td>\n",
       "      <td>2866.956522</td>\n",
       "      <td>236.181114</td>\n",
       "    </tr>\n",
       "  </tbody>\n",
       "</table>\n",
       "<p>77 rows × 4 columns</p>\n",
       "</div>"
      ],
      "text/plain": [
       "                  state    commodity  modal_price    rainfall\n",
       "0   andaman and nicobar      coconut  5600.000000  175.686646\n",
       "1                 assam         jute  3350.000000  174.792798\n",
       "2                 assam        maize  1800.000000   84.766988\n",
       "3                 assam         rice  2942.857143  236.181114\n",
       "4               gujarat       cotton  5230.000000   80.398043\n",
       "..                  ...          ...          ...         ...\n",
       "72           uttrakhand       orange  1800.000000  110.474969\n",
       "73           uttrakhand       papaya   700.000000  142.627839\n",
       "74           uttrakhand  pomegranate  3500.000000  107.528442\n",
       "75          west bengal         jute  4133.333333  174.792798\n",
       "76          west bengal         rice  2866.956522  236.181114\n",
       "\n",
       "[77 rows x 4 columns]"
      ]
     },
     "execution_count": 46,
     "metadata": {},
     "output_type": "execute_result"
    }
   ],
   "source": [
    "ad = agri\n",
    "ad"
   ]
  },
  {
   "cell_type": "code",
   "execution_count": 50,
   "id": "2a035d21",
   "metadata": {},
   "outputs": [],
   "source": [
    "rd['Jan-Feb'] = rd['Jan-Feb'].apply(lambda x: x/2)\n",
    "rd['Mar-May'] = rd['Mar-May'].apply(lambda x: x/3)\n",
    "rd['Jun-Sep'] = rd['Jun-Sep'].apply(lambda x: x/4)\n",
    "rd['Oct-Dec'] = rd['Oct-Dec'].apply(lambda x: x/3)"
   ]
  },
  {
   "cell_type": "code",
   "execution_count": 51,
   "id": "502e37df",
   "metadata": {},
   "outputs": [
    {
     "data": {
      "text/html": [
       "<div>\n",
       "<style scoped>\n",
       "    .dataframe tbody tr th:only-of-type {\n",
       "        vertical-align: middle;\n",
       "    }\n",
       "\n",
       "    .dataframe tbody tr th {\n",
       "        vertical-align: top;\n",
       "    }\n",
       "\n",
       "    .dataframe thead th {\n",
       "        text-align: right;\n",
       "    }\n",
       "</style>\n",
       "<table border=\"1\" class=\"dataframe\">\n",
       "  <thead>\n",
       "    <tr style=\"text-align: right;\">\n",
       "      <th></th>\n",
       "      <th>SUBDIVISION</th>\n",
       "      <th>YEAR</th>\n",
       "      <th>Jan-Feb</th>\n",
       "      <th>Mar-May</th>\n",
       "      <th>Jun-Sep</th>\n",
       "      <th>Oct-Dec</th>\n",
       "    </tr>\n",
       "  </thead>\n",
       "  <tbody>\n",
       "    <tr>\n",
       "      <th>0</th>\n",
       "      <td>andaman &amp; nicobar islands</td>\n",
       "      <td>1901</td>\n",
       "      <td>68.15</td>\n",
       "      <td>186.766667</td>\n",
       "      <td>424.075</td>\n",
       "      <td>326.766667</td>\n",
       "    </tr>\n",
       "    <tr>\n",
       "      <th>1</th>\n",
       "      <td>andaman &amp; nicobar islands</td>\n",
       "      <td>1902</td>\n",
       "      <td>79.90</td>\n",
       "      <td>152.766667</td>\n",
       "      <td>546.475</td>\n",
       "      <td>238.900000</td>\n",
       "    </tr>\n",
       "    <tr>\n",
       "      <th>2</th>\n",
       "      <td>andaman &amp; nicobar islands</td>\n",
       "      <td>1903</td>\n",
       "      <td>78.35</td>\n",
       "      <td>78.700000</td>\n",
       "      <td>468.500</td>\n",
       "      <td>230.200000</td>\n",
       "    </tr>\n",
       "    <tr>\n",
       "      <th>3</th>\n",
       "      <td>andaman &amp; nicobar islands</td>\n",
       "      <td>1904</td>\n",
       "      <td>12.05</td>\n",
       "      <td>168.966667</td>\n",
       "      <td>494.400</td>\n",
       "      <td>190.333333</td>\n",
       "    </tr>\n",
       "    <tr>\n",
       "      <th>4</th>\n",
       "      <td>andaman &amp; nicobar islands</td>\n",
       "      <td>1905</td>\n",
       "      <td>0.65</td>\n",
       "      <td>103.233333</td>\n",
       "      <td>406.225</td>\n",
       "      <td>210.266667</td>\n",
       "    </tr>\n",
       "    <tr>\n",
       "      <th>...</th>\n",
       "      <td>...</td>\n",
       "      <td>...</td>\n",
       "      <td>...</td>\n",
       "      <td>...</td>\n",
       "      <td>...</td>\n",
       "      <td>...</td>\n",
       "    </tr>\n",
       "    <tr>\n",
       "      <th>4111</th>\n",
       "      <td>lakshadweep</td>\n",
       "      <td>2011</td>\n",
       "      <td>3.95</td>\n",
       "      <td>65.400000</td>\n",
       "      <td>253.250</td>\n",
       "      <td>105.533333</td>\n",
       "    </tr>\n",
       "    <tr>\n",
       "      <th>4112</th>\n",
       "      <td>lakshadweep</td>\n",
       "      <td>2012</td>\n",
       "      <td>9.65</td>\n",
       "      <td>33.200000</td>\n",
       "      <td>279.875</td>\n",
       "      <td>55.700000</td>\n",
       "    </tr>\n",
       "    <tr>\n",
       "      <th>4113</th>\n",
       "      <td>lakshadweep</td>\n",
       "      <td>2013</td>\n",
       "      <td>30.30</td>\n",
       "      <td>43.700000</td>\n",
       "      <td>264.250</td>\n",
       "      <td>59.200000</td>\n",
       "    </tr>\n",
       "    <tr>\n",
       "      <th>4114</th>\n",
       "      <td>lakshadweep</td>\n",
       "      <td>2014</td>\n",
       "      <td>34.65</td>\n",
       "      <td>25.566667</td>\n",
       "      <td>239.625</td>\n",
       "      <td>96.833333</td>\n",
       "    </tr>\n",
       "    <tr>\n",
       "      <th>4115</th>\n",
       "      <td>lakshadweep</td>\n",
       "      <td>2015</td>\n",
       "      <td>1.35</td>\n",
       "      <td>74.633333</td>\n",
       "      <td>215.225</td>\n",
       "      <td>185.133333</td>\n",
       "    </tr>\n",
       "  </tbody>\n",
       "</table>\n",
       "<p>4116 rows × 6 columns</p>\n",
       "</div>"
      ],
      "text/plain": [
       "                    SUBDIVISION  YEAR  Jan-Feb     Mar-May  Jun-Sep  \\\n",
       "0     andaman & nicobar islands  1901    68.15  186.766667  424.075   \n",
       "1     andaman & nicobar islands  1902    79.90  152.766667  546.475   \n",
       "2     andaman & nicobar islands  1903    78.35   78.700000  468.500   \n",
       "3     andaman & nicobar islands  1904    12.05  168.966667  494.400   \n",
       "4     andaman & nicobar islands  1905     0.65  103.233333  406.225   \n",
       "...                         ...   ...      ...         ...      ...   \n",
       "4111                lakshadweep  2011     3.95   65.400000  253.250   \n",
       "4112                lakshadweep  2012     9.65   33.200000  279.875   \n",
       "4113                lakshadweep  2013    30.30   43.700000  264.250   \n",
       "4114                lakshadweep  2014    34.65   25.566667  239.625   \n",
       "4115                lakshadweep  2015     1.35   74.633333  215.225   \n",
       "\n",
       "         Oct-Dec  \n",
       "0     326.766667  \n",
       "1     238.900000  \n",
       "2     230.200000  \n",
       "3     190.333333  \n",
       "4     210.266667  \n",
       "...          ...  \n",
       "4111  105.533333  \n",
       "4112   55.700000  \n",
       "4113   59.200000  \n",
       "4114   96.833333  \n",
       "4115  185.133333  \n",
       "\n",
       "[4116 rows x 6 columns]"
      ]
     },
     "execution_count": 51,
     "metadata": {},
     "output_type": "execute_result"
    }
   ],
   "source": [
    "rd"
   ]
  },
  {
   "cell_type": "markdown",
   "id": "985418f2",
   "metadata": {},
   "source": [
    "## Making the Model"
   ]
  },
  {
   "cell_type": "code",
   "execution_count": 141,
   "id": "757c13dd",
   "metadata": {},
   "outputs": [],
   "source": [
    "df = pd.read_csv('agricult-data.csv')"
   ]
  },
  {
   "cell_type": "code",
   "execution_count": 142,
   "id": "0f0be8fe",
   "metadata": {},
   "outputs": [
    {
     "data": {
      "text/html": [
       "<div>\n",
       "<style scoped>\n",
       "    .dataframe tbody tr th:only-of-type {\n",
       "        vertical-align: middle;\n",
       "    }\n",
       "\n",
       "    .dataframe tbody tr th {\n",
       "        vertical-align: top;\n",
       "    }\n",
       "\n",
       "    .dataframe thead th {\n",
       "        text-align: right;\n",
       "    }\n",
       "</style>\n",
       "<table border=\"1\" class=\"dataframe\">\n",
       "  <thead>\n",
       "    <tr style=\"text-align: right;\">\n",
       "      <th></th>\n",
       "      <th>Unnamed: 0</th>\n",
       "      <th>state</th>\n",
       "      <th>commodity</th>\n",
       "      <th>modal_price</th>\n",
       "      <th>rainfall</th>\n",
       "    </tr>\n",
       "  </thead>\n",
       "  <tbody>\n",
       "    <tr>\n",
       "      <th>0</th>\n",
       "      <td>11</td>\n",
       "      <td>Andaman and Nicobar</td>\n",
       "      <td>coconut</td>\n",
       "      <td>5600</td>\n",
       "      <td>175.686646</td>\n",
       "    </tr>\n",
       "    <tr>\n",
       "      <th>1</th>\n",
       "      <td>23</td>\n",
       "      <td>Assam</td>\n",
       "      <td>rice</td>\n",
       "      <td>2400</td>\n",
       "      <td>236.181114</td>\n",
       "    </tr>\n",
       "    <tr>\n",
       "      <th>2</th>\n",
       "      <td>24</td>\n",
       "      <td>Assam</td>\n",
       "      <td>rice</td>\n",
       "      <td>2800</td>\n",
       "      <td>236.181114</td>\n",
       "    </tr>\n",
       "    <tr>\n",
       "      <th>3</th>\n",
       "      <td>43</td>\n",
       "      <td>Assam</td>\n",
       "      <td>jute</td>\n",
       "      <td>2800</td>\n",
       "      <td>174.792798</td>\n",
       "    </tr>\n",
       "    <tr>\n",
       "      <th>4</th>\n",
       "      <td>46</td>\n",
       "      <td>Assam</td>\n",
       "      <td>rice</td>\n",
       "      <td>4500</td>\n",
       "      <td>236.181114</td>\n",
       "    </tr>\n",
       "  </tbody>\n",
       "</table>\n",
       "</div>"
      ],
      "text/plain": [
       "   Unnamed: 0                state commodity  modal_price    rainfall\n",
       "0          11  Andaman and Nicobar   coconut         5600  175.686646\n",
       "1          23                Assam      rice         2400  236.181114\n",
       "2          24                Assam      rice         2800  236.181114\n",
       "3          43                Assam      jute         2800  174.792798\n",
       "4          46                Assam      rice         4500  236.181114"
      ]
     },
     "execution_count": 142,
     "metadata": {},
     "output_type": "execute_result"
    }
   ],
   "source": [
    "df.head()"
   ]
  },
  {
   "cell_type": "code",
   "execution_count": 144,
   "id": "37f12e4c",
   "metadata": {},
   "outputs": [
    {
     "name": "stdout",
     "output_type": "stream",
     "text": [
      "<class 'pandas.core.frame.DataFrame'>\n",
      "RangeIndex: 314 entries, 0 to 313\n",
      "Data columns (total 5 columns):\n",
      " #   Column       Non-Null Count  Dtype  \n",
      "---  ------       --------------  -----  \n",
      " 0   Unnamed: 0   314 non-null    int64  \n",
      " 1   state        314 non-null    object \n",
      " 2   commodity    314 non-null    object \n",
      " 3   modal_price  314 non-null    int64  \n",
      " 4   rainfall     314 non-null    float64\n",
      "dtypes: float64(1), int64(2), object(2)\n",
      "memory usage: 12.4+ KB\n"
     ]
    }
   ],
   "source": [
    "df.info()"
   ]
  },
  {
   "cell_type": "code",
   "execution_count": 151,
   "id": "cec5ba1e",
   "metadata": {},
   "outputs": [
    {
     "data": {
      "text/html": [
       "<div>\n",
       "<style scoped>\n",
       "    .dataframe tbody tr th:only-of-type {\n",
       "        vertical-align: middle;\n",
       "    }\n",
       "\n",
       "    .dataframe tbody tr th {\n",
       "        vertical-align: top;\n",
       "    }\n",
       "\n",
       "    .dataframe thead th {\n",
       "        text-align: right;\n",
       "    }\n",
       "</style>\n",
       "<table border=\"1\" class=\"dataframe\">\n",
       "  <thead>\n",
       "    <tr style=\"text-align: right;\">\n",
       "      <th></th>\n",
       "      <th>Unnamed: 0</th>\n",
       "      <th>modal_price</th>\n",
       "      <th>rainfall</th>\n",
       "    </tr>\n",
       "  </thead>\n",
       "  <tbody>\n",
       "    <tr>\n",
       "      <th>count</th>\n",
       "      <td>314.000000</td>\n",
       "      <td>314.000000</td>\n",
       "      <td>314.000000</td>\n",
       "    </tr>\n",
       "    <tr>\n",
       "      <th>mean</th>\n",
       "      <td>1158.786624</td>\n",
       "      <td>3326.175159</td>\n",
       "      <td>133.919452</td>\n",
       "    </tr>\n",
       "    <tr>\n",
       "      <th>std</th>\n",
       "      <td>648.165681</td>\n",
       "      <td>1798.630513</td>\n",
       "      <td>54.375183</td>\n",
       "    </tr>\n",
       "    <tr>\n",
       "      <th>min</th>\n",
       "      <td>11.000000</td>\n",
       "      <td>475.000000</td>\n",
       "      <td>69.611829</td>\n",
       "    </tr>\n",
       "    <tr>\n",
       "      <th>25%</th>\n",
       "      <td>657.250000</td>\n",
       "      <td>1955.000000</td>\n",
       "      <td>104.626980</td>\n",
       "    </tr>\n",
       "    <tr>\n",
       "      <th>50%</th>\n",
       "      <td>1241.000000</td>\n",
       "      <td>2967.500000</td>\n",
       "      <td>110.474969</td>\n",
       "    </tr>\n",
       "    <tr>\n",
       "      <th>75%</th>\n",
       "      <td>1679.500000</td>\n",
       "      <td>4300.000000</td>\n",
       "      <td>175.686646</td>\n",
       "    </tr>\n",
       "    <tr>\n",
       "      <th>max</th>\n",
       "      <td>2236.000000</td>\n",
       "      <td>11000.000000</td>\n",
       "      <td>236.181114</td>\n",
       "    </tr>\n",
       "  </tbody>\n",
       "</table>\n",
       "</div>"
      ],
      "text/plain": [
       "        Unnamed: 0   modal_price    rainfall\n",
       "count   314.000000    314.000000  314.000000\n",
       "mean   1158.786624   3326.175159  133.919452\n",
       "std     648.165681   1798.630513   54.375183\n",
       "min      11.000000    475.000000   69.611829\n",
       "25%     657.250000   1955.000000  104.626980\n",
       "50%    1241.000000   2967.500000  110.474969\n",
       "75%    1679.500000   4300.000000  175.686646\n",
       "max    2236.000000  11000.000000  236.181114"
      ]
     },
     "execution_count": 151,
     "metadata": {},
     "output_type": "execute_result"
    }
   ],
   "source": [
    "df.describe()"
   ]
  },
  {
   "cell_type": "code",
   "execution_count": 143,
   "id": "538a4167",
   "metadata": {},
   "outputs": [
    {
     "data": {
      "text/plain": [
       "array(['coconut', 'rice', 'jute', 'maize', 'cotton', 'banana', 'grapes',\n",
       "       'apple', 'orange', 'pomegranate', 'papaya', 'mango'], dtype=object)"
      ]
     },
     "execution_count": 143,
     "metadata": {},
     "output_type": "execute_result"
    }
   ],
   "source": [
    "df.commodity.unique()"
   ]
  },
  {
   "cell_type": "code",
   "execution_count": 145,
   "id": "e0db4fa5",
   "metadata": {},
   "outputs": [
    {
     "data": {
      "text/html": [
       "<div>\n",
       "<style scoped>\n",
       "    .dataframe tbody tr th:only-of-type {\n",
       "        vertical-align: middle;\n",
       "    }\n",
       "\n",
       "    .dataframe tbody tr th {\n",
       "        vertical-align: top;\n",
       "    }\n",
       "\n",
       "    .dataframe thead th {\n",
       "        text-align: right;\n",
       "    }\n",
       "</style>\n",
       "<table border=\"1\" class=\"dataframe\">\n",
       "  <thead>\n",
       "    <tr style=\"text-align: right;\">\n",
       "      <th></th>\n",
       "      <th>Jan-Feb</th>\n",
       "      <th>Mar-May</th>\n",
       "      <th>Jun-Sep</th>\n",
       "      <th>Oct-Dec</th>\n",
       "    </tr>\n",
       "  </thead>\n",
       "  <tbody>\n",
       "    <tr>\n",
       "      <th>count</th>\n",
       "      <td>4110.000000</td>\n",
       "      <td>4107.000000</td>\n",
       "      <td>4106.000000</td>\n",
       "      <td>4103.000000</td>\n",
       "    </tr>\n",
       "    <tr>\n",
       "      <th>mean</th>\n",
       "      <td>40.747786</td>\n",
       "      <td>155.901753</td>\n",
       "      <td>1064.724769</td>\n",
       "      <td>154.100487</td>\n",
       "    </tr>\n",
       "    <tr>\n",
       "      <th>std</th>\n",
       "      <td>59.308277</td>\n",
       "      <td>201.316965</td>\n",
       "      <td>707.741531</td>\n",
       "      <td>166.942660</td>\n",
       "    </tr>\n",
       "    <tr>\n",
       "      <th>min</th>\n",
       "      <td>0.000000</td>\n",
       "      <td>0.000000</td>\n",
       "      <td>57.400000</td>\n",
       "      <td>0.000000</td>\n",
       "    </tr>\n",
       "    <tr>\n",
       "      <th>25%</th>\n",
       "      <td>4.100000</td>\n",
       "      <td>24.050000</td>\n",
       "      <td>573.850000</td>\n",
       "      <td>34.200000</td>\n",
       "    </tr>\n",
       "    <tr>\n",
       "      <th>50%</th>\n",
       "      <td>19.200000</td>\n",
       "      <td>74.800000</td>\n",
       "      <td>881.100000</td>\n",
       "      <td>98.200000</td>\n",
       "    </tr>\n",
       "    <tr>\n",
       "      <th>75%</th>\n",
       "      <td>50.375000</td>\n",
       "      <td>196.950000</td>\n",
       "      <td>1288.175000</td>\n",
       "      <td>213.500000</td>\n",
       "    </tr>\n",
       "    <tr>\n",
       "      <th>max</th>\n",
       "      <td>699.500000</td>\n",
       "      <td>1745.800000</td>\n",
       "      <td>4536.900000</td>\n",
       "      <td>1252.500000</td>\n",
       "    </tr>\n",
       "  </tbody>\n",
       "</table>\n",
       "</div>"
      ],
      "text/plain": [
       "           Jan-Feb      Mar-May      Jun-Sep      Oct-Dec\n",
       "count  4110.000000  4107.000000  4106.000000  4103.000000\n",
       "mean     40.747786   155.901753  1064.724769   154.100487\n",
       "std      59.308277   201.316965   707.741531   166.942660\n",
       "min       0.000000     0.000000    57.400000     0.000000\n",
       "25%       4.100000    24.050000   573.850000    34.200000\n",
       "50%      19.200000    74.800000   881.100000    98.200000\n",
       "75%      50.375000   196.950000  1288.175000   213.500000\n",
       "max     699.500000  1745.800000  4536.900000  1252.500000"
      ]
     },
     "execution_count": 145,
     "metadata": {},
     "output_type": "execute_result"
    }
   ],
   "source": [
    "rd.describe()"
   ]
  },
  {
   "cell_type": "markdown",
   "id": "920e9584",
   "metadata": {},
   "source": [
    "Rice - K\n",
    "Maize - K\n",
    "Jute - Z\n",
    "Coconut - K\n",
    "Cotton - K\n",
    "Banana - K\n",
    "Grapes - R\n",
    "Apple - K\n",
    "Orange - K\n",
    "Pomegranate - Z\n",
    "Papaya - K\n",
    "Mango - R"
   ]
  },
  {
   "cell_type": "code",
   "execution_count": 146,
   "id": "6085ffc1",
   "metadata": {},
   "outputs": [
    {
     "name": "stdout",
     "output_type": "stream",
     "text": [
      "{'apple': 'K', 'banana': 'K', 'coconut': 'K', 'cotton': 'K', 'grapes': 'R', 'jute': 'Z', 'maize': 'K', 'mango': 'R', 'orange': 'K', 'papaya': 'K', 'pomegranate': 'Z', 'rice': 'K'}\n"
     ]
    }
   ],
   "source": [
    "crop_season = {\n",
    "'apple': 'K',\n",
    "'banana': 'K',\n",
    "'coconut': 'K',\n",
    "'cotton': 'K',\n",
    "'grapes': 'R',\n",
    "'jute': 'Z',\n",
    "'maize': 'K',\n",
    "'mango': 'R',\n",
    "'orange': 'K',\n",
    "'papaya': 'K',\n",
    "'pomegranate': 'Z',\n",
    "'rice': 'K',\n",
    "}\n",
    "print(crop_season)"
   ]
  },
  {
   "cell_type": "code",
   "execution_count": 147,
   "id": "33d083f4",
   "metadata": {},
   "outputs": [],
   "source": [
    "df['season'] = df['commodity']\n",
    "df[\"season\"].replace(crop_season, inplace=True)"
   ]
  },
  {
   "cell_type": "code",
   "execution_count": 148,
   "id": "a224a97b",
   "metadata": {},
   "outputs": [
    {
     "data": {
      "text/html": [
       "<div>\n",
       "<style scoped>\n",
       "    .dataframe tbody tr th:only-of-type {\n",
       "        vertical-align: middle;\n",
       "    }\n",
       "\n",
       "    .dataframe tbody tr th {\n",
       "        vertical-align: top;\n",
       "    }\n",
       "\n",
       "    .dataframe thead th {\n",
       "        text-align: right;\n",
       "    }\n",
       "</style>\n",
       "<table border=\"1\" class=\"dataframe\">\n",
       "  <thead>\n",
       "    <tr style=\"text-align: right;\">\n",
       "      <th></th>\n",
       "      <th>Unnamed: 0</th>\n",
       "      <th>state</th>\n",
       "      <th>commodity</th>\n",
       "      <th>modal_price</th>\n",
       "      <th>rainfall</th>\n",
       "      <th>season</th>\n",
       "    </tr>\n",
       "  </thead>\n",
       "  <tbody>\n",
       "    <tr>\n",
       "      <th>0</th>\n",
       "      <td>11</td>\n",
       "      <td>Andaman and Nicobar</td>\n",
       "      <td>coconut</td>\n",
       "      <td>5600</td>\n",
       "      <td>175.686646</td>\n",
       "      <td>K</td>\n",
       "    </tr>\n",
       "    <tr>\n",
       "      <th>1</th>\n",
       "      <td>23</td>\n",
       "      <td>Assam</td>\n",
       "      <td>rice</td>\n",
       "      <td>2400</td>\n",
       "      <td>236.181114</td>\n",
       "      <td>K</td>\n",
       "    </tr>\n",
       "    <tr>\n",
       "      <th>2</th>\n",
       "      <td>24</td>\n",
       "      <td>Assam</td>\n",
       "      <td>rice</td>\n",
       "      <td>2800</td>\n",
       "      <td>236.181114</td>\n",
       "      <td>K</td>\n",
       "    </tr>\n",
       "    <tr>\n",
       "      <th>3</th>\n",
       "      <td>43</td>\n",
       "      <td>Assam</td>\n",
       "      <td>jute</td>\n",
       "      <td>2800</td>\n",
       "      <td>174.792798</td>\n",
       "      <td>Z</td>\n",
       "    </tr>\n",
       "    <tr>\n",
       "      <th>4</th>\n",
       "      <td>46</td>\n",
       "      <td>Assam</td>\n",
       "      <td>rice</td>\n",
       "      <td>4500</td>\n",
       "      <td>236.181114</td>\n",
       "      <td>K</td>\n",
       "    </tr>\n",
       "  </tbody>\n",
       "</table>\n",
       "</div>"
      ],
      "text/plain": [
       "   Unnamed: 0                state commodity  modal_price    rainfall season\n",
       "0          11  Andaman and Nicobar   coconut         5600  175.686646      K\n",
       "1          23                Assam      rice         2400  236.181114      K\n",
       "2          24                Assam      rice         2800  236.181114      K\n",
       "3          43                Assam      jute         2800  174.792798      Z\n",
       "4          46                Assam      rice         4500  236.181114      K"
      ]
     },
     "execution_count": 148,
     "metadata": {},
     "output_type": "execute_result"
    }
   ],
   "source": [
    "df.head()"
   ]
  },
  {
   "cell_type": "code",
   "execution_count": 149,
   "id": "97b0c249",
   "metadata": {},
   "outputs": [
    {
     "data": {
      "text/plain": [
       "array(['Andaman and Nicobar', 'Assam', 'Gujarat', 'Haryana',\n",
       "       'Himachal Pradesh', 'Karnataka', 'Kerala', 'Madhya Pradesh',\n",
       "       'Maharashtra', 'Manipur', 'Meghalaya', 'Odisha', 'Punjab',\n",
       "       'Rajasthan', 'Tamil Nadu', 'Telangana', 'Tripura', 'Uttar Pradesh',\n",
       "       'Uttrakhand', 'West Bengal'], dtype=object)"
      ]
     },
     "execution_count": 149,
     "metadata": {},
     "output_type": "execute_result"
    }
   ],
   "source": [
    "df.state.unique()"
   ]
  },
  {
   "cell_type": "code",
   "execution_count": 150,
   "id": "a51cdf62",
   "metadata": {},
   "outputs": [
    {
     "data": {
      "text/plain": [
       "array(['K', 'Z', 'R'], dtype=object)"
      ]
     },
     "execution_count": 150,
     "metadata": {},
     "output_type": "execute_result"
    }
   ],
   "source": [
    "df.season.unique()"
   ]
  },
  {
   "cell_type": "code",
   "execution_count": 152,
   "id": "73972801",
   "metadata": {},
   "outputs": [
    {
     "data": {
      "text/plain": [
       "{'Andaman and Nicobar': 0,\n",
       " 'Assam': 1,\n",
       " 'Gujarat': 2,\n",
       " 'Haryana': 3,\n",
       " 'Himachal Pradesh': 4,\n",
       " 'Karnataka': 5,\n",
       " 'Kerala': 6,\n",
       " 'Madhya Pradesh': 7,\n",
       " 'Maharashtra': 8,\n",
       " 'Manipur': 9,\n",
       " 'Meghalaya': 10,\n",
       " 'Odisha': 11,\n",
       " 'Punjab': 12,\n",
       " 'Rajasthan': 13,\n",
       " 'Tamil Nadu': 14,\n",
       " 'Telangana': 15,\n",
       " 'Tripura': 16,\n",
       " 'Uttar Pradesh': 17,\n",
       " 'Uttrakhand': 18,\n",
       " 'West Bengal': 19}"
      ]
     },
     "execution_count": 152,
     "metadata": {},
     "output_type": "execute_result"
    }
   ],
   "source": [
    "state_dict = {}\n",
    "count = 0\n",
    "for ele in list(df.state.unique()):\n",
    "    state_dict[ele] = count\n",
    "    count+=1\n",
    "state_dict"
   ]
  },
  {
   "cell_type": "code",
   "execution_count": 153,
   "id": "a4a62a1f",
   "metadata": {},
   "outputs": [
    {
     "data": {
      "text/plain": [
       "{'K': 0, 'Z': 1, 'R': 2}"
      ]
     },
     "execution_count": 153,
     "metadata": {},
     "output_type": "execute_result"
    }
   ],
   "source": [
    "season_dict = {}\n",
    "count = 0\n",
    "for ele in list(df.season.unique()):\n",
    "    season_dict[ele] = count\n",
    "    count+=1\n",
    "season_dict"
   ]
  },
  {
   "cell_type": "markdown",
   "id": "4cfa240f",
   "metadata": {},
   "source": [
    "<hr>\n",
    "\n",
    "# K-Nearest Neighbours\n",
    "Accuracy: 62%"
   ]
  },
  {
   "cell_type": "code",
   "execution_count": 154,
   "id": "c5498b92",
   "metadata": {},
   "outputs": [],
   "source": [
    "knnd = df\n",
    "knnd[\"state\"].replace(state_dict, inplace=True)\n",
    "knnd[\"season\"].replace(season_dict, inplace=True)"
   ]
  },
  {
   "cell_type": "code",
   "execution_count": 155,
   "id": "392a275f",
   "metadata": {},
   "outputs": [
    {
     "data": {
      "text/html": [
       "<div>\n",
       "<style scoped>\n",
       "    .dataframe tbody tr th:only-of-type {\n",
       "        vertical-align: middle;\n",
       "    }\n",
       "\n",
       "    .dataframe tbody tr th {\n",
       "        vertical-align: top;\n",
       "    }\n",
       "\n",
       "    .dataframe thead th {\n",
       "        text-align: right;\n",
       "    }\n",
       "</style>\n",
       "<table border=\"1\" class=\"dataframe\">\n",
       "  <thead>\n",
       "    <tr style=\"text-align: right;\">\n",
       "      <th></th>\n",
       "      <th>Unnamed: 0</th>\n",
       "      <th>state</th>\n",
       "      <th>commodity</th>\n",
       "      <th>modal_price</th>\n",
       "      <th>rainfall</th>\n",
       "      <th>season</th>\n",
       "    </tr>\n",
       "  </thead>\n",
       "  <tbody>\n",
       "    <tr>\n",
       "      <th>0</th>\n",
       "      <td>11</td>\n",
       "      <td>0</td>\n",
       "      <td>coconut</td>\n",
       "      <td>5600</td>\n",
       "      <td>175.686646</td>\n",
       "      <td>0</td>\n",
       "    </tr>\n",
       "    <tr>\n",
       "      <th>1</th>\n",
       "      <td>23</td>\n",
       "      <td>1</td>\n",
       "      <td>rice</td>\n",
       "      <td>2400</td>\n",
       "      <td>236.181114</td>\n",
       "      <td>0</td>\n",
       "    </tr>\n",
       "    <tr>\n",
       "      <th>2</th>\n",
       "      <td>24</td>\n",
       "      <td>1</td>\n",
       "      <td>rice</td>\n",
       "      <td>2800</td>\n",
       "      <td>236.181114</td>\n",
       "      <td>0</td>\n",
       "    </tr>\n",
       "    <tr>\n",
       "      <th>3</th>\n",
       "      <td>43</td>\n",
       "      <td>1</td>\n",
       "      <td>jute</td>\n",
       "      <td>2800</td>\n",
       "      <td>174.792798</td>\n",
       "      <td>1</td>\n",
       "    </tr>\n",
       "    <tr>\n",
       "      <th>4</th>\n",
       "      <td>46</td>\n",
       "      <td>1</td>\n",
       "      <td>rice</td>\n",
       "      <td>4500</td>\n",
       "      <td>236.181114</td>\n",
       "      <td>0</td>\n",
       "    </tr>\n",
       "  </tbody>\n",
       "</table>\n",
       "</div>"
      ],
      "text/plain": [
       "   Unnamed: 0  state commodity  modal_price    rainfall  season\n",
       "0          11      0   coconut         5600  175.686646       0\n",
       "1          23      1      rice         2400  236.181114       0\n",
       "2          24      1      rice         2800  236.181114       0\n",
       "3          43      1      jute         2800  174.792798       1\n",
       "4          46      1      rice         4500  236.181114       0"
      ]
     },
     "execution_count": 155,
     "metadata": {},
     "output_type": "execute_result"
    }
   ],
   "source": [
    "knnd.head()"
   ]
  },
  {
   "cell_type": "code",
   "execution_count": 156,
   "id": "4c295412",
   "metadata": {},
   "outputs": [],
   "source": [
    "import numpy as np\n",
    "import matplotlib.pyplot as plt\n",
    "import pandas as pd\n",
    "import sklearn"
   ]
  },
  {
   "cell_type": "code",
   "execution_count": 157,
   "id": "61473ef8",
   "metadata": {},
   "outputs": [],
   "source": [
    "X = knnd[['state','season','modal_price']]\n",
    "Y = knnd['commodity']"
   ]
  },
  {
   "cell_type": "code",
   "execution_count": 158,
   "id": "9f1fe29e",
   "metadata": {},
   "outputs": [],
   "source": [
    "from sklearn.preprocessing import LabelEncoder\n",
    "le = LabelEncoder()\n",
    "Y = le.fit_transform(Y)"
   ]
  },
  {
   "cell_type": "code",
   "execution_count": 159,
   "id": "3f1359f2",
   "metadata": {},
   "outputs": [
    {
     "data": {
      "text/plain": [
       "array([ 2, 11, 11,  5, 11, 11, 11,  5,  6, 11, 11,  3,  6,  6,  3,  3,  3,\n",
       "        3,  1,  4,  0,  4,  8, 10,  1,  4,  8,  9, 10,  0,  1,  4,  8, 10,\n",
       "        0, 10,  0,  1,  4,  8,  9, 10,  0,  4,  8,  9, 10,  1,  4,  9,  9,\n",
       "        0,  1,  1,  1,  2,  1,  1,  1,  1,  1,  1,  1,  1,  1,  1,  1,  1,\n",
       "        2,  1,  1,  1,  8,  1,  2,  7,  1,  1,  1,  1,  1,  1,  1,  1,  1,\n",
       "        1,  1,  1,  1,  1,  1,  1,  1,  0,  1,  0,  1,  8,  3,  8, 10,  3,\n",
       "        1,  3,  6,  0,  7,  3,  0,  4,  8,  4,  0,  1,  4, 10,  1,  1, 11,\n",
       "        1, 11,  1, 11,  1, 11,  1, 11,  1,  8,  1,  1,  2,  6, 11,  6,  8,\n",
       "        8,  8, 11,  4,  4,  9,  1,  3,  4,  4,  0,  1,  3,  4,  4, 10,  0,\n",
       "        1,  9,  1,  4,  9, 10,  6,  2,  2,  2,  6,  2,  2,  6,  2,  2,  2,\n",
       "        2,  2,  2,  6,  3,  2,  6,  2,  2,  2,  2,  2,  2,  3,  2,  3,  3,\n",
       "        2,  3,  2,  3,  3,  2,  6,  3,  2,  2,  6,  6,  3,  6,  6,  3,  3,\n",
       "        3, 11,  1, 11,  0,  1,  9, 11,  0,  1, 11,  0,  1,  9,  0,  1,  9,\n",
       "       11,  6,  0,  9, 10,  0,  1,  4, 11,  1, 11,  0, 10,  1,  6, 11,  6,\n",
       "        0,  1,  9, 11,  0,  1,  6, 11,  0,  1,  6,  0,  1,  4,  8, 10, 11,\n",
       "       11,  0, 11,  0,  0,  6,  9, 11,  0, 11,  9,  0,  1,  0,  1,  9,  0,\n",
       "        1,  9,  9, 11,  0,  1,  4,  8,  9, 10, 11, 11, 11, 11, 11, 11,  5,\n",
       "       11, 11,  5, 11, 11,  5, 11, 11,  5, 11, 11,  5, 11,  5, 11,  5, 11,\n",
       "       11, 11, 11, 11,  5, 11,  5, 11])"
      ]
     },
     "execution_count": 159,
     "metadata": {},
     "output_type": "execute_result"
    }
   ],
   "source": [
    "Y"
   ]
  },
  {
   "cell_type": "code",
   "execution_count": 197,
   "id": "66bb3152",
   "metadata": {},
   "outputs": [],
   "source": [
    "from sklearn.model_selection import train_test_split\n",
    "X_train, X_test, y_train, y_test = train_test_split(X, Y, test_size = 0.25, random_state = 4625)"
   ]
  },
  {
   "cell_type": "code",
   "execution_count": 198,
   "id": "378c6f8a",
   "metadata": {},
   "outputs": [],
   "source": [
    "from sklearn.preprocessing import StandardScaler\n",
    "sc = StandardScaler()\n",
    "X_train = sc.fit_transform(X_train)\n",
    "X_test = sc.transform(X_test)"
   ]
  },
  {
   "cell_type": "code",
   "execution_count": 218,
   "id": "3707cdbf",
   "metadata": {},
   "outputs": [
    {
     "data": {
      "text/html": [
       "<style>#sk-container-id-9 {color: black;background-color: white;}#sk-container-id-9 pre{padding: 0;}#sk-container-id-9 div.sk-toggleable {background-color: white;}#sk-container-id-9 label.sk-toggleable__label {cursor: pointer;display: block;width: 100%;margin-bottom: 0;padding: 0.3em;box-sizing: border-box;text-align: center;}#sk-container-id-9 label.sk-toggleable__label-arrow:before {content: \"▸\";float: left;margin-right: 0.25em;color: #696969;}#sk-container-id-9 label.sk-toggleable__label-arrow:hover:before {color: black;}#sk-container-id-9 div.sk-estimator:hover label.sk-toggleable__label-arrow:before {color: black;}#sk-container-id-9 div.sk-toggleable__content {max-height: 0;max-width: 0;overflow: hidden;text-align: left;background-color: #f0f8ff;}#sk-container-id-9 div.sk-toggleable__content pre {margin: 0.2em;color: black;border-radius: 0.25em;background-color: #f0f8ff;}#sk-container-id-9 input.sk-toggleable__control:checked~div.sk-toggleable__content {max-height: 200px;max-width: 100%;overflow: auto;}#sk-container-id-9 input.sk-toggleable__control:checked~label.sk-toggleable__label-arrow:before {content: \"▾\";}#sk-container-id-9 div.sk-estimator input.sk-toggleable__control:checked~label.sk-toggleable__label {background-color: #d4ebff;}#sk-container-id-9 div.sk-label input.sk-toggleable__control:checked~label.sk-toggleable__label {background-color: #d4ebff;}#sk-container-id-9 input.sk-hidden--visually {border: 0;clip: rect(1px 1px 1px 1px);clip: rect(1px, 1px, 1px, 1px);height: 1px;margin: -1px;overflow: hidden;padding: 0;position: absolute;width: 1px;}#sk-container-id-9 div.sk-estimator {font-family: monospace;background-color: #f0f8ff;border: 1px dotted black;border-radius: 0.25em;box-sizing: border-box;margin-bottom: 0.5em;}#sk-container-id-9 div.sk-estimator:hover {background-color: #d4ebff;}#sk-container-id-9 div.sk-parallel-item::after {content: \"\";width: 100%;border-bottom: 1px solid gray;flex-grow: 1;}#sk-container-id-9 div.sk-label:hover label.sk-toggleable__label {background-color: #d4ebff;}#sk-container-id-9 div.sk-serial::before {content: \"\";position: absolute;border-left: 1px solid gray;box-sizing: border-box;top: 0;bottom: 0;left: 50%;z-index: 0;}#sk-container-id-9 div.sk-serial {display: flex;flex-direction: column;align-items: center;background-color: white;padding-right: 0.2em;padding-left: 0.2em;position: relative;}#sk-container-id-9 div.sk-item {position: relative;z-index: 1;}#sk-container-id-9 div.sk-parallel {display: flex;align-items: stretch;justify-content: center;background-color: white;position: relative;}#sk-container-id-9 div.sk-item::before, #sk-container-id-9 div.sk-parallel-item::before {content: \"\";position: absolute;border-left: 1px solid gray;box-sizing: border-box;top: 0;bottom: 0;left: 50%;z-index: -1;}#sk-container-id-9 div.sk-parallel-item {display: flex;flex-direction: column;z-index: 1;position: relative;background-color: white;}#sk-container-id-9 div.sk-parallel-item:first-child::after {align-self: flex-end;width: 50%;}#sk-container-id-9 div.sk-parallel-item:last-child::after {align-self: flex-start;width: 50%;}#sk-container-id-9 div.sk-parallel-item:only-child::after {width: 0;}#sk-container-id-9 div.sk-dashed-wrapped {border: 1px dashed gray;margin: 0 0.4em 0.5em 0.4em;box-sizing: border-box;padding-bottom: 0.4em;background-color: white;}#sk-container-id-9 div.sk-label label {font-family: monospace;font-weight: bold;display: inline-block;line-height: 1.2em;}#sk-container-id-9 div.sk-label-container {text-align: center;}#sk-container-id-9 div.sk-container {/* jupyter's `normalize.less` sets `[hidden] { display: none; }` but bootstrap.min.css set `[hidden] { display: none !important; }` so we also need the `!important` here to be able to override the default hidden behavior on the sphinx rendered scikit-learn.org. See: https://github.com/scikit-learn/scikit-learn/issues/21755 */display: inline-block !important;position: relative;}#sk-container-id-9 div.sk-text-repr-fallback {display: none;}</style><div id=\"sk-container-id-9\" class=\"sk-top-container\"><div class=\"sk-text-repr-fallback\"><pre>KNeighborsClassifier(n_neighbors=10)</pre><b>In a Jupyter environment, please rerun this cell to show the HTML representation or trust the notebook. <br />On GitHub, the HTML representation is unable to render, please try loading this page with nbviewer.org.</b></div><div class=\"sk-container\" hidden><div class=\"sk-item\"><div class=\"sk-estimator sk-toggleable\"><input class=\"sk-toggleable__control sk-hidden--visually\" id=\"sk-estimator-id-9\" type=\"checkbox\" checked><label for=\"sk-estimator-id-9\" class=\"sk-toggleable__label sk-toggleable__label-arrow\">KNeighborsClassifier</label><div class=\"sk-toggleable__content\"><pre>KNeighborsClassifier(n_neighbors=10)</pre></div></div></div></div></div>"
      ],
      "text/plain": [
       "KNeighborsClassifier(n_neighbors=10)"
      ]
     },
     "execution_count": 218,
     "metadata": {},
     "output_type": "execute_result"
    }
   ],
   "source": [
    "from sklearn.neighbors import KNeighborsClassifier\n",
    "classifier = KNeighborsClassifier(n_neighbors = 10, metric = 'minkowski', p = 2)\n",
    "classifier.fit(X_train, y_train)"
   ]
  },
  {
   "cell_type": "code",
   "execution_count": 219,
   "id": "e925f490",
   "metadata": {},
   "outputs": [],
   "source": [
    "y_pred = classifier.predict(X_test)"
   ]
  },
  {
   "cell_type": "code",
   "execution_count": 220,
   "id": "9d291820",
   "metadata": {},
   "outputs": [
    {
     "data": {
      "text/plain": [
       "array([ 2, 11,  6,  1,  1,  0,  1,  1,  3,  1,  1,  1,  1,  1,  3,  4,  1,\n",
       "        3, 11, 10,  1,  1,  6,  0,  4,  0, 11,  1,  6,  3, 10,  1,  6,  5,\n",
       "        1,  0,  1,  0, 11,  6,  1,  3, 11,  1,  4, 11,  2,  1,  3, 11, 11,\n",
       "        4, 11,  1,  1,  1, 11, 11,  1,  2,  1,  0,  1,  3, 11,  3,  5,  0,\n",
       "       11, 11,  1,  1,  2,  1,  1, 10,  1,  2,  1])"
      ]
     },
     "execution_count": 220,
     "metadata": {},
     "output_type": "execute_result"
    }
   ],
   "source": [
    "y_pred"
   ]
  },
  {
   "cell_type": "code",
   "execution_count": 221,
   "id": "1fee1cf7",
   "metadata": {},
   "outputs": [
    {
     "data": {
      "text/plain": [
       "array([ 6, 11,  2,  2,  1,  0,  8,  9,  3,  1,  1,  1,  9,  2,  3,  4,  2,\n",
       "        3, 11, 10,  1,  1,  1,  3,  7,  0,  1,  1,  6,  8, 10,  1,  2,  5,\n",
       "        1, 11,  6,  3, 11,  2,  3,  3, 11,  1,  4, 11,  2,  3,  3, 11, 11,\n",
       "        4,  9,  1,  1,  1, 11, 11,  9,  2, 11,  0,  8,  1, 11,  1, 10,  0,\n",
       "       11, 11,  1, 11,  2,  1,  0, 10,  1,  2,  6])"
      ]
     },
     "execution_count": 221,
     "metadata": {},
     "output_type": "execute_result"
    }
   ],
   "source": [
    "y_test"
   ]
  },
  {
   "cell_type": "code",
   "execution_count": 222,
   "id": "c2b7c988",
   "metadata": {},
   "outputs": [],
   "source": [
    "from sklearn.metrics import confusion_matrix,accuracy_score\n",
    "cm = confusion_matrix(y_test, y_pred)\n",
    "ac = accuracy_score(y_test,y_pred)"
   ]
  },
  {
   "cell_type": "code",
   "execution_count": 223,
   "id": "dc09c29f",
   "metadata": {},
   "outputs": [
    {
     "data": {
      "text/plain": [
       "0.620253164556962"
      ]
     },
     "execution_count": 223,
     "metadata": {},
     "output_type": "execute_result"
    }
   ],
   "source": [
    "ac"
   ]
  },
  {
   "cell_type": "markdown",
   "id": "e446aa4f",
   "metadata": {},
   "source": [
    "<hr>\n",
    "\n",
    "# Decision Tree\n",
    "Accuracy: 71%"
   ]
  },
  {
   "cell_type": "code",
   "execution_count": 224,
   "id": "4cf39147",
   "metadata": {},
   "outputs": [],
   "source": [
    "from sklearn.tree import DecisionTreeClassifier"
   ]
  },
  {
   "cell_type": "code",
   "execution_count": 272,
   "id": "9403bd22",
   "metadata": {},
   "outputs": [
    {
     "data": {
      "text/html": [
       "<style>#sk-container-id-19 {color: black;background-color: white;}#sk-container-id-19 pre{padding: 0;}#sk-container-id-19 div.sk-toggleable {background-color: white;}#sk-container-id-19 label.sk-toggleable__label {cursor: pointer;display: block;width: 100%;margin-bottom: 0;padding: 0.3em;box-sizing: border-box;text-align: center;}#sk-container-id-19 label.sk-toggleable__label-arrow:before {content: \"▸\";float: left;margin-right: 0.25em;color: #696969;}#sk-container-id-19 label.sk-toggleable__label-arrow:hover:before {color: black;}#sk-container-id-19 div.sk-estimator:hover label.sk-toggleable__label-arrow:before {color: black;}#sk-container-id-19 div.sk-toggleable__content {max-height: 0;max-width: 0;overflow: hidden;text-align: left;background-color: #f0f8ff;}#sk-container-id-19 div.sk-toggleable__content pre {margin: 0.2em;color: black;border-radius: 0.25em;background-color: #f0f8ff;}#sk-container-id-19 input.sk-toggleable__control:checked~div.sk-toggleable__content {max-height: 200px;max-width: 100%;overflow: auto;}#sk-container-id-19 input.sk-toggleable__control:checked~label.sk-toggleable__label-arrow:before {content: \"▾\";}#sk-container-id-19 div.sk-estimator input.sk-toggleable__control:checked~label.sk-toggleable__label {background-color: #d4ebff;}#sk-container-id-19 div.sk-label input.sk-toggleable__control:checked~label.sk-toggleable__label {background-color: #d4ebff;}#sk-container-id-19 input.sk-hidden--visually {border: 0;clip: rect(1px 1px 1px 1px);clip: rect(1px, 1px, 1px, 1px);height: 1px;margin: -1px;overflow: hidden;padding: 0;position: absolute;width: 1px;}#sk-container-id-19 div.sk-estimator {font-family: monospace;background-color: #f0f8ff;border: 1px dotted black;border-radius: 0.25em;box-sizing: border-box;margin-bottom: 0.5em;}#sk-container-id-19 div.sk-estimator:hover {background-color: #d4ebff;}#sk-container-id-19 div.sk-parallel-item::after {content: \"\";width: 100%;border-bottom: 1px solid gray;flex-grow: 1;}#sk-container-id-19 div.sk-label:hover label.sk-toggleable__label {background-color: #d4ebff;}#sk-container-id-19 div.sk-serial::before {content: \"\";position: absolute;border-left: 1px solid gray;box-sizing: border-box;top: 0;bottom: 0;left: 50%;z-index: 0;}#sk-container-id-19 div.sk-serial {display: flex;flex-direction: column;align-items: center;background-color: white;padding-right: 0.2em;padding-left: 0.2em;position: relative;}#sk-container-id-19 div.sk-item {position: relative;z-index: 1;}#sk-container-id-19 div.sk-parallel {display: flex;align-items: stretch;justify-content: center;background-color: white;position: relative;}#sk-container-id-19 div.sk-item::before, #sk-container-id-19 div.sk-parallel-item::before {content: \"\";position: absolute;border-left: 1px solid gray;box-sizing: border-box;top: 0;bottom: 0;left: 50%;z-index: -1;}#sk-container-id-19 div.sk-parallel-item {display: flex;flex-direction: column;z-index: 1;position: relative;background-color: white;}#sk-container-id-19 div.sk-parallel-item:first-child::after {align-self: flex-end;width: 50%;}#sk-container-id-19 div.sk-parallel-item:last-child::after {align-self: flex-start;width: 50%;}#sk-container-id-19 div.sk-parallel-item:only-child::after {width: 0;}#sk-container-id-19 div.sk-dashed-wrapped {border: 1px dashed gray;margin: 0 0.4em 0.5em 0.4em;box-sizing: border-box;padding-bottom: 0.4em;background-color: white;}#sk-container-id-19 div.sk-label label {font-family: monospace;font-weight: bold;display: inline-block;line-height: 1.2em;}#sk-container-id-19 div.sk-label-container {text-align: center;}#sk-container-id-19 div.sk-container {/* jupyter's `normalize.less` sets `[hidden] { display: none; }` but bootstrap.min.css set `[hidden] { display: none !important; }` so we also need the `!important` here to be able to override the default hidden behavior on the sphinx rendered scikit-learn.org. See: https://github.com/scikit-learn/scikit-learn/issues/21755 */display: inline-block !important;position: relative;}#sk-container-id-19 div.sk-text-repr-fallback {display: none;}</style><div id=\"sk-container-id-19\" class=\"sk-top-container\"><div class=\"sk-text-repr-fallback\"><pre>DecisionTreeClassifier(max_depth=8)</pre><b>In a Jupyter environment, please rerun this cell to show the HTML representation or trust the notebook. <br />On GitHub, the HTML representation is unable to render, please try loading this page with nbviewer.org.</b></div><div class=\"sk-container\" hidden><div class=\"sk-item\"><div class=\"sk-estimator sk-toggleable\"><input class=\"sk-toggleable__control sk-hidden--visually\" id=\"sk-estimator-id-19\" type=\"checkbox\" checked><label for=\"sk-estimator-id-19\" class=\"sk-toggleable__label sk-toggleable__label-arrow\">DecisionTreeClassifier</label><div class=\"sk-toggleable__content\"><pre>DecisionTreeClassifier(max_depth=8)</pre></div></div></div></div></div>"
      ],
      "text/plain": [
       "DecisionTreeClassifier(max_depth=8)"
      ]
     },
     "execution_count": 272,
     "metadata": {},
     "output_type": "execute_result"
    }
   ],
   "source": [
    "dt = DecisionTreeClassifier(max_depth=8)\n",
    "dt.fit(X_train, y_train)"
   ]
  },
  {
   "cell_type": "code",
   "execution_count": 273,
   "id": "f3fdc6a7",
   "metadata": {},
   "outputs": [],
   "source": [
    "y_train_pred = dt.predict(X_train)\n",
    "y_test_pred = dt.predict(X_test)"
   ]
  },
  {
   "cell_type": "code",
   "execution_count": 274,
   "id": "a9ec1a0a",
   "metadata": {},
   "outputs": [
    {
     "data": {
      "text/plain": [
       "array([ 6, 11,  2,  2,  1,  0,  8,  9,  3,  1,  1,  1,  9,  2,  3,  4,  2,\n",
       "        3, 11, 10,  1,  1,  1,  3,  7,  0,  1,  1,  6,  8, 10,  1,  2,  5,\n",
       "        1, 11,  6,  3, 11,  2,  3,  3, 11,  1,  4, 11,  2,  3,  3, 11, 11,\n",
       "        4,  9,  1,  1,  1, 11, 11,  9,  2, 11,  0,  8,  1, 11,  1, 10,  0,\n",
       "       11, 11,  1, 11,  2,  1,  0, 10,  1,  2,  6])"
      ]
     },
     "execution_count": 274,
     "metadata": {},
     "output_type": "execute_result"
    }
   ],
   "source": [
    "y_test"
   ]
  },
  {
   "cell_type": "code",
   "execution_count": 275,
   "id": "e0adf6b1",
   "metadata": {},
   "outputs": [
    {
     "data": {
      "text/plain": [
       "array([ 2, 11,  1,  3,  1,  0,  1,  9,  3,  1,  1,  1,  1,  1,  3,  4,  1,\n",
       "        3, 11,  1,  8,  1,  1,  8,  4,  0, 11,  1,  6,  1, 10,  1,  9,  5,\n",
       "        1, 11,  1,  3, 11,  1,  3, 11, 11,  9,  4, 11,  2,  3,  3, 11, 11,\n",
       "        4, 11,  1,  1,  1, 11, 11,  9,  2,  1,  0,  1,  1, 11,  1, 10,  0,\n",
       "       11, 11,  1,  1,  2,  9,  0, 10,  1,  2,  6])"
      ]
     },
     "execution_count": 275,
     "metadata": {},
     "output_type": "execute_result"
    }
   ],
   "source": [
    "y_test_pred"
   ]
  },
  {
   "cell_type": "code",
   "execution_count": 276,
   "id": "2078de93",
   "metadata": {},
   "outputs": [
    {
     "name": "stdout",
     "output_type": "stream",
     "text": [
      "0.7088607594936709\n"
     ]
    }
   ],
   "source": [
    "print(accuracy_score(y_test, y_test_pred))"
   ]
  },
  {
   "cell_type": "markdown",
   "id": "cfb533ba",
   "metadata": {},
   "source": [
    "<hr>\n",
    "\n",
    "# SVM Classifier\n",
    "Accuracy: 45%"
   ]
  },
  {
   "cell_type": "code",
   "execution_count": 282,
   "id": "2d67e79f",
   "metadata": {},
   "outputs": [],
   "source": [
    "from sklearn import svm\n",
    "clf = svm.SVC(kernel='linear')\n",
    "clf.fit(X_train, y_train)\n",
    "y_pred = clf.predict(X_test)"
   ]
  },
  {
   "cell_type": "code",
   "execution_count": 283,
   "id": "9ff41f1b",
   "metadata": {},
   "outputs": [
    {
     "name": "stdout",
     "output_type": "stream",
     "text": [
      "Accuracy: 0.45569620253164556\n"
     ]
    }
   ],
   "source": [
    "print(\"Accuracy:\",accuracy_score(y_test, y_pred))"
   ]
  },
  {
   "cell_type": "code",
   "execution_count": null,
   "id": "e4680e0c",
   "metadata": {},
   "outputs": [],
   "source": []
  }
 ],
 "metadata": {
  "kernelspec": {
   "display_name": "Python 3 (ipykernel)",
   "language": "python",
   "name": "python3"
  },
  "language_info": {
   "codemirror_mode": {
    "name": "ipython",
    "version": 3
   },
   "file_extension": ".py",
   "mimetype": "text/x-python",
   "name": "python",
   "nbconvert_exporter": "python",
   "pygments_lexer": "ipython3",
   "version": "3.10.1"
  }
 },
 "nbformat": 4,
 "nbformat_minor": 5
}
